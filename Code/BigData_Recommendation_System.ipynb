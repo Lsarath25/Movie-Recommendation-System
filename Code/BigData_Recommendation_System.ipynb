{
  "nbformat": 4,
  "nbformat_minor": 0,
  "metadata": {
    "colab": {
      "name": "BigData_Recommendation_System.ipynb",
      "provenance": [],
      "collapsed_sections": []
    },
    "kernelspec": {
      "name": "python3",
      "display_name": "Python 3"
    },
    "language_info": {
      "name": "python"
    },
    "accelerator": "GPU"
  },
  "cells": [
    {
      "cell_type": "markdown",
      "source": [
        "#Movie Recommendation System"
      ],
      "metadata": {
        "id": "_EhiEtfvDB5u"
      }
    },
    {
      "cell_type": "markdown",
      "source": [
        "\n",
        "\n",
        "---\n",
        "\n"
      ],
      "metadata": {
        "id": "dY_pdrKcDKgt"
      }
    },
    {
      "cell_type": "markdown",
      "source": [
        "##Importing Required Libraries"
      ],
      "metadata": {
        "id": "k8ukWhICDG6q"
      }
    },
    {
      "cell_type": "code",
      "execution_count": 1,
      "metadata": {
        "id": "p-DEQv7yRjqk"
      },
      "outputs": [],
      "source": [
        "import os\n",
        "import numpy as np\n",
        "import pandas as pd\n",
        "import matplotlib.pyplot as plt\n",
        "from sklearn.model_selection import train_test_split\n",
        "from sklearn.preprocessing import LabelEncoder\n",
        "import tensorflow as tf\n",
        "import keras\n",
        "from pprint import pprint"
      ]
    },
    {
      "cell_type": "markdown",
      "source": [
        "##Data Preprocessing"
      ],
      "metadata": {
        "id": "arT59zd-DUB4"
      }
    },
    {
      "cell_type": "markdown",
      "source": [
        "####Importing Data and preparing Datasets"
      ],
      "metadata": {
        "id": "jWFWWfEKDvUs"
      }
    },
    {
      "cell_type": "code",
      "source": [
        "ratings_dataset_df = pd.read_csv('u.data', sep='\\t', header=None) #importing the movie rating dataset\n",
        "ratings_dataset_df.columns = ['user id','movie id','rating','timestamp']\n",
        "ratings_dataset_df.head() #printing first 5 rows of the data set"
      ],
      "metadata": {
        "colab": {
          "base_uri": "https://localhost:8080/",
          "height": 206
        },
        "id": "OSLeyjq966Pk",
        "outputId": "42958486-fba5-4be5-cb7e-f6d013188402"
      },
      "execution_count": 2,
      "outputs": [
        {
          "output_type": "execute_result",
          "data": {
            "text/plain": [
              "   user id  movie id  rating  timestamp\n",
              "0      196       242       3  881250949\n",
              "1      186       302       3  891717742\n",
              "2       22       377       1  878887116\n",
              "3      244        51       2  880606923\n",
              "4      166       346       1  886397596"
            ],
            "text/html": [
              "\n",
              "  <div id=\"df-83ab2ed1-ba6a-47ea-951f-08a2d0bfedbd\">\n",
              "    <div class=\"colab-df-container\">\n",
              "      <div>\n",
              "<style scoped>\n",
              "    .dataframe tbody tr th:only-of-type {\n",
              "        vertical-align: middle;\n",
              "    }\n",
              "\n",
              "    .dataframe tbody tr th {\n",
              "        vertical-align: top;\n",
              "    }\n",
              "\n",
              "    .dataframe thead th {\n",
              "        text-align: right;\n",
              "    }\n",
              "</style>\n",
              "<table border=\"1\" class=\"dataframe\">\n",
              "  <thead>\n",
              "    <tr style=\"text-align: right;\">\n",
              "      <th></th>\n",
              "      <th>user id</th>\n",
              "      <th>movie id</th>\n",
              "      <th>rating</th>\n",
              "      <th>timestamp</th>\n",
              "    </tr>\n",
              "  </thead>\n",
              "  <tbody>\n",
              "    <tr>\n",
              "      <th>0</th>\n",
              "      <td>196</td>\n",
              "      <td>242</td>\n",
              "      <td>3</td>\n",
              "      <td>881250949</td>\n",
              "    </tr>\n",
              "    <tr>\n",
              "      <th>1</th>\n",
              "      <td>186</td>\n",
              "      <td>302</td>\n",
              "      <td>3</td>\n",
              "      <td>891717742</td>\n",
              "    </tr>\n",
              "    <tr>\n",
              "      <th>2</th>\n",
              "      <td>22</td>\n",
              "      <td>377</td>\n",
              "      <td>1</td>\n",
              "      <td>878887116</td>\n",
              "    </tr>\n",
              "    <tr>\n",
              "      <th>3</th>\n",
              "      <td>244</td>\n",
              "      <td>51</td>\n",
              "      <td>2</td>\n",
              "      <td>880606923</td>\n",
              "    </tr>\n",
              "    <tr>\n",
              "      <th>4</th>\n",
              "      <td>166</td>\n",
              "      <td>346</td>\n",
              "      <td>1</td>\n",
              "      <td>886397596</td>\n",
              "    </tr>\n",
              "  </tbody>\n",
              "</table>\n",
              "</div>\n",
              "      <button class=\"colab-df-convert\" onclick=\"convertToInteractive('df-83ab2ed1-ba6a-47ea-951f-08a2d0bfedbd')\"\n",
              "              title=\"Convert this dataframe to an interactive table.\"\n",
              "              style=\"display:none;\">\n",
              "        \n",
              "  <svg xmlns=\"http://www.w3.org/2000/svg\" height=\"24px\"viewBox=\"0 0 24 24\"\n",
              "       width=\"24px\">\n",
              "    <path d=\"M0 0h24v24H0V0z\" fill=\"none\"/>\n",
              "    <path d=\"M18.56 5.44l.94 2.06.94-2.06 2.06-.94-2.06-.94-.94-2.06-.94 2.06-2.06.94zm-11 1L8.5 8.5l.94-2.06 2.06-.94-2.06-.94L8.5 2.5l-.94 2.06-2.06.94zm10 10l.94 2.06.94-2.06 2.06-.94-2.06-.94-.94-2.06-.94 2.06-2.06.94z\"/><path d=\"M17.41 7.96l-1.37-1.37c-.4-.4-.92-.59-1.43-.59-.52 0-1.04.2-1.43.59L10.3 9.45l-7.72 7.72c-.78.78-.78 2.05 0 2.83L4 21.41c.39.39.9.59 1.41.59.51 0 1.02-.2 1.41-.59l7.78-7.78 2.81-2.81c.8-.78.8-2.07 0-2.86zM5.41 20L4 18.59l7.72-7.72 1.47 1.35L5.41 20z\"/>\n",
              "  </svg>\n",
              "      </button>\n",
              "      \n",
              "  <style>\n",
              "    .colab-df-container {\n",
              "      display:flex;\n",
              "      flex-wrap:wrap;\n",
              "      gap: 12px;\n",
              "    }\n",
              "\n",
              "    .colab-df-convert {\n",
              "      background-color: #E8F0FE;\n",
              "      border: none;\n",
              "      border-radius: 50%;\n",
              "      cursor: pointer;\n",
              "      display: none;\n",
              "      fill: #1967D2;\n",
              "      height: 32px;\n",
              "      padding: 0 0 0 0;\n",
              "      width: 32px;\n",
              "    }\n",
              "\n",
              "    .colab-df-convert:hover {\n",
              "      background-color: #E2EBFA;\n",
              "      box-shadow: 0px 1px 2px rgba(60, 64, 67, 0.3), 0px 1px 3px 1px rgba(60, 64, 67, 0.15);\n",
              "      fill: #174EA6;\n",
              "    }\n",
              "\n",
              "    [theme=dark] .colab-df-convert {\n",
              "      background-color: #3B4455;\n",
              "      fill: #D2E3FC;\n",
              "    }\n",
              "\n",
              "    [theme=dark] .colab-df-convert:hover {\n",
              "      background-color: #434B5C;\n",
              "      box-shadow: 0px 1px 3px 1px rgba(0, 0, 0, 0.15);\n",
              "      filter: drop-shadow(0px 1px 2px rgba(0, 0, 0, 0.3));\n",
              "      fill: #FFFFFF;\n",
              "    }\n",
              "  </style>\n",
              "\n",
              "      <script>\n",
              "        const buttonEl =\n",
              "          document.querySelector('#df-83ab2ed1-ba6a-47ea-951f-08a2d0bfedbd button.colab-df-convert');\n",
              "        buttonEl.style.display =\n",
              "          google.colab.kernel.accessAllowed ? 'block' : 'none';\n",
              "\n",
              "        async function convertToInteractive(key) {\n",
              "          const element = document.querySelector('#df-83ab2ed1-ba6a-47ea-951f-08a2d0bfedbd');\n",
              "          const dataTable =\n",
              "            await google.colab.kernel.invokeFunction('convertToInteractive',\n",
              "                                                     [key], {});\n",
              "          if (!dataTable) return;\n",
              "\n",
              "          const docLinkHtml = 'Like what you see? Visit the ' +\n",
              "            '<a target=\"_blank\" href=https://colab.research.google.com/notebooks/data_table.ipynb>data table notebook</a>'\n",
              "            + ' to learn more about interactive tables.';\n",
              "          element.innerHTML = '';\n",
              "          dataTable['output_type'] = 'display_data';\n",
              "          await google.colab.output.renderOutput(dataTable, element);\n",
              "          const docLink = document.createElement('div');\n",
              "          docLink.innerHTML = docLinkHtml;\n",
              "          element.appendChild(docLink);\n",
              "        }\n",
              "      </script>\n",
              "    </div>\n",
              "  </div>\n",
              "  "
            ]
          },
          "metadata": {},
          "execution_count": 2
        }
      ]
    },
    {
      "cell_type": "code",
      "source": [
        "ratings_dataset_df.info() #printing the dataset info"
      ],
      "metadata": {
        "colab": {
          "base_uri": "https://localhost:8080/"
        },
        "id": "wJsDRz0dLcm7",
        "outputId": "66d296dc-3106-41cf-be83-23b1ec636d6c"
      },
      "execution_count": 46,
      "outputs": [
        {
          "output_type": "stream",
          "name": "stdout",
          "text": [
            "<class 'pandas.core.frame.DataFrame'>\n",
            "RangeIndex: 100000 entries, 0 to 99999\n",
            "Data columns (total 4 columns):\n",
            " #   Column     Non-Null Count   Dtype\n",
            "---  ------     --------------   -----\n",
            " 0   user id    100000 non-null  int64\n",
            " 1   movie id   100000 non-null  int64\n",
            " 2   rating     100000 non-null  int64\n",
            " 3   timestamp  100000 non-null  int64\n",
            "dtypes: int64(4)\n",
            "memory usage: 3.1 MB\n"
          ]
        }
      ]
    },
    {
      "cell_type": "code",
      "source": [
        "column_names_items = 'movie id | movie title | release date | video release date | IMDb URL | unknown | Action | Adventure | Animation | Children | Comedy | Crime | Documentary | Drama | Fantasy | Film-Noir | Horror | Musical | Mystery | Romance | Sci-Fi | Thriller | War | Western'\n",
        "column_names_item_dataset = column_names_items.split(' | ')\n",
        "print(column_names_item_dataset)"
      ],
      "metadata": {
        "colab": {
          "base_uri": "https://localhost:8080/"
        },
        "id": "dTSL-hOv7X5B",
        "outputId": "9d86bb06-eac8-423e-e5a1-7264ede841ef"
      },
      "execution_count": 3,
      "outputs": [
        {
          "output_type": "stream",
          "name": "stdout",
          "text": [
            "['movie id', 'movie title', 'release date', 'video release date', 'IMDb URL', 'unknown', 'Action', 'Adventure', 'Animation', 'Children', 'Comedy', 'Crime', 'Documentary', 'Drama', 'Fantasy', 'Film-Noir', 'Horror', 'Musical', 'Mystery', 'Romance', 'Sci-Fi', 'Thriller', 'War', 'Western']\n"
          ]
        }
      ]
    },
    {
      "cell_type": "code",
      "source": [
        "items_dataset_df = pd.read_csv('u.item', sep='|',header=None,names=column_names_item_dataset,encoding='latin-1') #importing the movie-genre dataset\n",
        "items_dataset_df.head() #to display first 5 rows of the data"
      ],
      "metadata": {
        "colab": {
          "base_uri": "https://localhost:8080/",
          "height": 384
        },
        "id": "tvJZL2v89FDF",
        "outputId": "72e7a34c-7ef0-4f45-d114-8a9607e97e3d"
      },
      "execution_count": 4,
      "outputs": [
        {
          "output_type": "execute_result",
          "data": {
            "text/plain": [
              "   movie id        movie title release date  video release date  \\\n",
              "0         1   Toy Story (1995)  01-Jan-1995                 NaN   \n",
              "1         2   GoldenEye (1995)  01-Jan-1995                 NaN   \n",
              "2         3  Four Rooms (1995)  01-Jan-1995                 NaN   \n",
              "3         4  Get Shorty (1995)  01-Jan-1995                 NaN   \n",
              "4         5     Copycat (1995)  01-Jan-1995                 NaN   \n",
              "\n",
              "                                            IMDb URL  unknown  Action  \\\n",
              "0  http://us.imdb.com/M/title-exact?Toy%20Story%2...        0       0   \n",
              "1  http://us.imdb.com/M/title-exact?GoldenEye%20(...        0       1   \n",
              "2  http://us.imdb.com/M/title-exact?Four%20Rooms%...        0       0   \n",
              "3  http://us.imdb.com/M/title-exact?Get%20Shorty%...        0       1   \n",
              "4  http://us.imdb.com/M/title-exact?Copycat%20(1995)        0       0   \n",
              "\n",
              "   Adventure  Animation  Children  ...  Fantasy  Film-Noir  Horror  Musical  \\\n",
              "0          0          1         1  ...        0          0       0        0   \n",
              "1          1          0         0  ...        0          0       0        0   \n",
              "2          0          0         0  ...        0          0       0        0   \n",
              "3          0          0         0  ...        0          0       0        0   \n",
              "4          0          0         0  ...        0          0       0        0   \n",
              "\n",
              "   Mystery  Romance  Sci-Fi  Thriller  War  Western  \n",
              "0        0        0       0         0    0        0  \n",
              "1        0        0       0         1    0        0  \n",
              "2        0        0       0         1    0        0  \n",
              "3        0        0       0         0    0        0  \n",
              "4        0        0       0         1    0        0  \n",
              "\n",
              "[5 rows x 24 columns]"
            ],
            "text/html": [
              "\n",
              "  <div id=\"df-403c685c-5c3a-40b2-8c32-ab0152081914\">\n",
              "    <div class=\"colab-df-container\">\n",
              "      <div>\n",
              "<style scoped>\n",
              "    .dataframe tbody tr th:only-of-type {\n",
              "        vertical-align: middle;\n",
              "    }\n",
              "\n",
              "    .dataframe tbody tr th {\n",
              "        vertical-align: top;\n",
              "    }\n",
              "\n",
              "    .dataframe thead th {\n",
              "        text-align: right;\n",
              "    }\n",
              "</style>\n",
              "<table border=\"1\" class=\"dataframe\">\n",
              "  <thead>\n",
              "    <tr style=\"text-align: right;\">\n",
              "      <th></th>\n",
              "      <th>movie id</th>\n",
              "      <th>movie title</th>\n",
              "      <th>release date</th>\n",
              "      <th>video release date</th>\n",
              "      <th>IMDb URL</th>\n",
              "      <th>unknown</th>\n",
              "      <th>Action</th>\n",
              "      <th>Adventure</th>\n",
              "      <th>Animation</th>\n",
              "      <th>Children</th>\n",
              "      <th>...</th>\n",
              "      <th>Fantasy</th>\n",
              "      <th>Film-Noir</th>\n",
              "      <th>Horror</th>\n",
              "      <th>Musical</th>\n",
              "      <th>Mystery</th>\n",
              "      <th>Romance</th>\n",
              "      <th>Sci-Fi</th>\n",
              "      <th>Thriller</th>\n",
              "      <th>War</th>\n",
              "      <th>Western</th>\n",
              "    </tr>\n",
              "  </thead>\n",
              "  <tbody>\n",
              "    <tr>\n",
              "      <th>0</th>\n",
              "      <td>1</td>\n",
              "      <td>Toy Story (1995)</td>\n",
              "      <td>01-Jan-1995</td>\n",
              "      <td>NaN</td>\n",
              "      <td>http://us.imdb.com/M/title-exact?Toy%20Story%2...</td>\n",
              "      <td>0</td>\n",
              "      <td>0</td>\n",
              "      <td>0</td>\n",
              "      <td>1</td>\n",
              "      <td>1</td>\n",
              "      <td>...</td>\n",
              "      <td>0</td>\n",
              "      <td>0</td>\n",
              "      <td>0</td>\n",
              "      <td>0</td>\n",
              "      <td>0</td>\n",
              "      <td>0</td>\n",
              "      <td>0</td>\n",
              "      <td>0</td>\n",
              "      <td>0</td>\n",
              "      <td>0</td>\n",
              "    </tr>\n",
              "    <tr>\n",
              "      <th>1</th>\n",
              "      <td>2</td>\n",
              "      <td>GoldenEye (1995)</td>\n",
              "      <td>01-Jan-1995</td>\n",
              "      <td>NaN</td>\n",
              "      <td>http://us.imdb.com/M/title-exact?GoldenEye%20(...</td>\n",
              "      <td>0</td>\n",
              "      <td>1</td>\n",
              "      <td>1</td>\n",
              "      <td>0</td>\n",
              "      <td>0</td>\n",
              "      <td>...</td>\n",
              "      <td>0</td>\n",
              "      <td>0</td>\n",
              "      <td>0</td>\n",
              "      <td>0</td>\n",
              "      <td>0</td>\n",
              "      <td>0</td>\n",
              "      <td>0</td>\n",
              "      <td>1</td>\n",
              "      <td>0</td>\n",
              "      <td>0</td>\n",
              "    </tr>\n",
              "    <tr>\n",
              "      <th>2</th>\n",
              "      <td>3</td>\n",
              "      <td>Four Rooms (1995)</td>\n",
              "      <td>01-Jan-1995</td>\n",
              "      <td>NaN</td>\n",
              "      <td>http://us.imdb.com/M/title-exact?Four%20Rooms%...</td>\n",
              "      <td>0</td>\n",
              "      <td>0</td>\n",
              "      <td>0</td>\n",
              "      <td>0</td>\n",
              "      <td>0</td>\n",
              "      <td>...</td>\n",
              "      <td>0</td>\n",
              "      <td>0</td>\n",
              "      <td>0</td>\n",
              "      <td>0</td>\n",
              "      <td>0</td>\n",
              "      <td>0</td>\n",
              "      <td>0</td>\n",
              "      <td>1</td>\n",
              "      <td>0</td>\n",
              "      <td>0</td>\n",
              "    </tr>\n",
              "    <tr>\n",
              "      <th>3</th>\n",
              "      <td>4</td>\n",
              "      <td>Get Shorty (1995)</td>\n",
              "      <td>01-Jan-1995</td>\n",
              "      <td>NaN</td>\n",
              "      <td>http://us.imdb.com/M/title-exact?Get%20Shorty%...</td>\n",
              "      <td>0</td>\n",
              "      <td>1</td>\n",
              "      <td>0</td>\n",
              "      <td>0</td>\n",
              "      <td>0</td>\n",
              "      <td>...</td>\n",
              "      <td>0</td>\n",
              "      <td>0</td>\n",
              "      <td>0</td>\n",
              "      <td>0</td>\n",
              "      <td>0</td>\n",
              "      <td>0</td>\n",
              "      <td>0</td>\n",
              "      <td>0</td>\n",
              "      <td>0</td>\n",
              "      <td>0</td>\n",
              "    </tr>\n",
              "    <tr>\n",
              "      <th>4</th>\n",
              "      <td>5</td>\n",
              "      <td>Copycat (1995)</td>\n",
              "      <td>01-Jan-1995</td>\n",
              "      <td>NaN</td>\n",
              "      <td>http://us.imdb.com/M/title-exact?Copycat%20(1995)</td>\n",
              "      <td>0</td>\n",
              "      <td>0</td>\n",
              "      <td>0</td>\n",
              "      <td>0</td>\n",
              "      <td>0</td>\n",
              "      <td>...</td>\n",
              "      <td>0</td>\n",
              "      <td>0</td>\n",
              "      <td>0</td>\n",
              "      <td>0</td>\n",
              "      <td>0</td>\n",
              "      <td>0</td>\n",
              "      <td>0</td>\n",
              "      <td>1</td>\n",
              "      <td>0</td>\n",
              "      <td>0</td>\n",
              "    </tr>\n",
              "  </tbody>\n",
              "</table>\n",
              "<p>5 rows × 24 columns</p>\n",
              "</div>\n",
              "      <button class=\"colab-df-convert\" onclick=\"convertToInteractive('df-403c685c-5c3a-40b2-8c32-ab0152081914')\"\n",
              "              title=\"Convert this dataframe to an interactive table.\"\n",
              "              style=\"display:none;\">\n",
              "        \n",
              "  <svg xmlns=\"http://www.w3.org/2000/svg\" height=\"24px\"viewBox=\"0 0 24 24\"\n",
              "       width=\"24px\">\n",
              "    <path d=\"M0 0h24v24H0V0z\" fill=\"none\"/>\n",
              "    <path d=\"M18.56 5.44l.94 2.06.94-2.06 2.06-.94-2.06-.94-.94-2.06-.94 2.06-2.06.94zm-11 1L8.5 8.5l.94-2.06 2.06-.94-2.06-.94L8.5 2.5l-.94 2.06-2.06.94zm10 10l.94 2.06.94-2.06 2.06-.94-2.06-.94-.94-2.06-.94 2.06-2.06.94z\"/><path d=\"M17.41 7.96l-1.37-1.37c-.4-.4-.92-.59-1.43-.59-.52 0-1.04.2-1.43.59L10.3 9.45l-7.72 7.72c-.78.78-.78 2.05 0 2.83L4 21.41c.39.39.9.59 1.41.59.51 0 1.02-.2 1.41-.59l7.78-7.78 2.81-2.81c.8-.78.8-2.07 0-2.86zM5.41 20L4 18.59l7.72-7.72 1.47 1.35L5.41 20z\"/>\n",
              "  </svg>\n",
              "      </button>\n",
              "      \n",
              "  <style>\n",
              "    .colab-df-container {\n",
              "      display:flex;\n",
              "      flex-wrap:wrap;\n",
              "      gap: 12px;\n",
              "    }\n",
              "\n",
              "    .colab-df-convert {\n",
              "      background-color: #E8F0FE;\n",
              "      border: none;\n",
              "      border-radius: 50%;\n",
              "      cursor: pointer;\n",
              "      display: none;\n",
              "      fill: #1967D2;\n",
              "      height: 32px;\n",
              "      padding: 0 0 0 0;\n",
              "      width: 32px;\n",
              "    }\n",
              "\n",
              "    .colab-df-convert:hover {\n",
              "      background-color: #E2EBFA;\n",
              "      box-shadow: 0px 1px 2px rgba(60, 64, 67, 0.3), 0px 1px 3px 1px rgba(60, 64, 67, 0.15);\n",
              "      fill: #174EA6;\n",
              "    }\n",
              "\n",
              "    [theme=dark] .colab-df-convert {\n",
              "      background-color: #3B4455;\n",
              "      fill: #D2E3FC;\n",
              "    }\n",
              "\n",
              "    [theme=dark] .colab-df-convert:hover {\n",
              "      background-color: #434B5C;\n",
              "      box-shadow: 0px 1px 3px 1px rgba(0, 0, 0, 0.15);\n",
              "      filter: drop-shadow(0px 1px 2px rgba(0, 0, 0, 0.3));\n",
              "      fill: #FFFFFF;\n",
              "    }\n",
              "  </style>\n",
              "\n",
              "      <script>\n",
              "        const buttonEl =\n",
              "          document.querySelector('#df-403c685c-5c3a-40b2-8c32-ab0152081914 button.colab-df-convert');\n",
              "        buttonEl.style.display =\n",
              "          google.colab.kernel.accessAllowed ? 'block' : 'none';\n",
              "\n",
              "        async function convertToInteractive(key) {\n",
              "          const element = document.querySelector('#df-403c685c-5c3a-40b2-8c32-ab0152081914');\n",
              "          const dataTable =\n",
              "            await google.colab.kernel.invokeFunction('convertToInteractive',\n",
              "                                                     [key], {});\n",
              "          if (!dataTable) return;\n",
              "\n",
              "          const docLinkHtml = 'Like what you see? Visit the ' +\n",
              "            '<a target=\"_blank\" href=https://colab.research.google.com/notebooks/data_table.ipynb>data table notebook</a>'\n",
              "            + ' to learn more about interactive tables.';\n",
              "          element.innerHTML = '';\n",
              "          dataTable['output_type'] = 'display_data';\n",
              "          await google.colab.output.renderOutput(dataTable, element);\n",
              "          const docLink = document.createElement('div');\n",
              "          docLink.innerHTML = docLinkHtml;\n",
              "          element.appendChild(docLink);\n",
              "        }\n",
              "      </script>\n",
              "    </div>\n",
              "  </div>\n",
              "  "
            ]
          },
          "metadata": {},
          "execution_count": 4
        }
      ]
    },
    {
      "cell_type": "code",
      "source": [
        "items_dataset_df.info() # to display the dataset info"
      ],
      "metadata": {
        "colab": {
          "base_uri": "https://localhost:8080/"
        },
        "id": "5oVuFXc0LyJb",
        "outputId": "311ee338-61d4-401d-cd28-ffa7efbfb415"
      },
      "execution_count": 48,
      "outputs": [
        {
          "output_type": "stream",
          "name": "stdout",
          "text": [
            "<class 'pandas.core.frame.DataFrame'>\n",
            "RangeIndex: 1682 entries, 0 to 1681\n",
            "Data columns (total 24 columns):\n",
            " #   Column              Non-Null Count  Dtype  \n",
            "---  ------              --------------  -----  \n",
            " 0   movie id            1682 non-null   int64  \n",
            " 1   movie title         1682 non-null   object \n",
            " 2   release date        1681 non-null   object \n",
            " 3   video release date  0 non-null      float64\n",
            " 4   IMDb URL            1679 non-null   object \n",
            " 5   unknown             1682 non-null   int64  \n",
            " 6   Action              1682 non-null   int64  \n",
            " 7   Adventure           1682 non-null   int64  \n",
            " 8   Animation           1682 non-null   int64  \n",
            " 9   Children            1682 non-null   int64  \n",
            " 10  Comedy              1682 non-null   int64  \n",
            " 11  Crime               1682 non-null   int64  \n",
            " 12  Documentary         1682 non-null   int64  \n",
            " 13  Drama               1682 non-null   int64  \n",
            " 14  Fantasy             1682 non-null   int64  \n",
            " 15  Film-Noir           1682 non-null   int64  \n",
            " 16  Horror              1682 non-null   int64  \n",
            " 17  Musical             1682 non-null   int64  \n",
            " 18  Mystery             1682 non-null   int64  \n",
            " 19  Romance             1682 non-null   int64  \n",
            " 20  Sci-Fi              1682 non-null   int64  \n",
            " 21  Thriller            1682 non-null   int64  \n",
            " 22  War                 1682 non-null   int64  \n",
            " 23  Western             1682 non-null   int64  \n",
            "dtypes: float64(1), int64(20), object(3)\n",
            "memory usage: 315.5+ KB\n"
          ]
        }
      ]
    },
    {
      "cell_type": "code",
      "source": [
        "movie_dataset_df = items_dataset_df[['movie id','movie title', 'Action','Adventure', 'Animation','Children','Comedy','Crime','Documentary','Drama','Fantasy','Film-Noir','Horror','Musical','Mystery','Romance','Sci-Fi','Thriller','War','Western']]\n",
        "movie_dataset_df.head()"
      ],
      "metadata": {
        "colab": {
          "base_uri": "https://localhost:8080/",
          "height": 206
        },
        "id": "k_W-VEq99HPH",
        "outputId": "59995b9e-ab44-4e84-a641-ed50dd7c576a"
      },
      "execution_count": 5,
      "outputs": [
        {
          "output_type": "execute_result",
          "data": {
            "text/plain": [
              "   movie id        movie title  Action  Adventure  Animation  Children  \\\n",
              "0         1   Toy Story (1995)       0          0          1         1   \n",
              "1         2   GoldenEye (1995)       1          1          0         0   \n",
              "2         3  Four Rooms (1995)       0          0          0         0   \n",
              "3         4  Get Shorty (1995)       1          0          0         0   \n",
              "4         5     Copycat (1995)       0          0          0         0   \n",
              "\n",
              "   Comedy  Crime  Documentary  Drama  Fantasy  Film-Noir  Horror  Musical  \\\n",
              "0       1      0            0      0        0          0       0        0   \n",
              "1       0      0            0      0        0          0       0        0   \n",
              "2       0      0            0      0        0          0       0        0   \n",
              "3       1      0            0      1        0          0       0        0   \n",
              "4       0      1            0      1        0          0       0        0   \n",
              "\n",
              "   Mystery  Romance  Sci-Fi  Thriller  War  Western  \n",
              "0        0        0       0         0    0        0  \n",
              "1        0        0       0         1    0        0  \n",
              "2        0        0       0         1    0        0  \n",
              "3        0        0       0         0    0        0  \n",
              "4        0        0       0         1    0        0  "
            ],
            "text/html": [
              "\n",
              "  <div id=\"df-d4c65449-f098-474d-a733-b146e2b07015\">\n",
              "    <div class=\"colab-df-container\">\n",
              "      <div>\n",
              "<style scoped>\n",
              "    .dataframe tbody tr th:only-of-type {\n",
              "        vertical-align: middle;\n",
              "    }\n",
              "\n",
              "    .dataframe tbody tr th {\n",
              "        vertical-align: top;\n",
              "    }\n",
              "\n",
              "    .dataframe thead th {\n",
              "        text-align: right;\n",
              "    }\n",
              "</style>\n",
              "<table border=\"1\" class=\"dataframe\">\n",
              "  <thead>\n",
              "    <tr style=\"text-align: right;\">\n",
              "      <th></th>\n",
              "      <th>movie id</th>\n",
              "      <th>movie title</th>\n",
              "      <th>Action</th>\n",
              "      <th>Adventure</th>\n",
              "      <th>Animation</th>\n",
              "      <th>Children</th>\n",
              "      <th>Comedy</th>\n",
              "      <th>Crime</th>\n",
              "      <th>Documentary</th>\n",
              "      <th>Drama</th>\n",
              "      <th>Fantasy</th>\n",
              "      <th>Film-Noir</th>\n",
              "      <th>Horror</th>\n",
              "      <th>Musical</th>\n",
              "      <th>Mystery</th>\n",
              "      <th>Romance</th>\n",
              "      <th>Sci-Fi</th>\n",
              "      <th>Thriller</th>\n",
              "      <th>War</th>\n",
              "      <th>Western</th>\n",
              "    </tr>\n",
              "  </thead>\n",
              "  <tbody>\n",
              "    <tr>\n",
              "      <th>0</th>\n",
              "      <td>1</td>\n",
              "      <td>Toy Story (1995)</td>\n",
              "      <td>0</td>\n",
              "      <td>0</td>\n",
              "      <td>1</td>\n",
              "      <td>1</td>\n",
              "      <td>1</td>\n",
              "      <td>0</td>\n",
              "      <td>0</td>\n",
              "      <td>0</td>\n",
              "      <td>0</td>\n",
              "      <td>0</td>\n",
              "      <td>0</td>\n",
              "      <td>0</td>\n",
              "      <td>0</td>\n",
              "      <td>0</td>\n",
              "      <td>0</td>\n",
              "      <td>0</td>\n",
              "      <td>0</td>\n",
              "      <td>0</td>\n",
              "    </tr>\n",
              "    <tr>\n",
              "      <th>1</th>\n",
              "      <td>2</td>\n",
              "      <td>GoldenEye (1995)</td>\n",
              "      <td>1</td>\n",
              "      <td>1</td>\n",
              "      <td>0</td>\n",
              "      <td>0</td>\n",
              "      <td>0</td>\n",
              "      <td>0</td>\n",
              "      <td>0</td>\n",
              "      <td>0</td>\n",
              "      <td>0</td>\n",
              "      <td>0</td>\n",
              "      <td>0</td>\n",
              "      <td>0</td>\n",
              "      <td>0</td>\n",
              "      <td>0</td>\n",
              "      <td>0</td>\n",
              "      <td>1</td>\n",
              "      <td>0</td>\n",
              "      <td>0</td>\n",
              "    </tr>\n",
              "    <tr>\n",
              "      <th>2</th>\n",
              "      <td>3</td>\n",
              "      <td>Four Rooms (1995)</td>\n",
              "      <td>0</td>\n",
              "      <td>0</td>\n",
              "      <td>0</td>\n",
              "      <td>0</td>\n",
              "      <td>0</td>\n",
              "      <td>0</td>\n",
              "      <td>0</td>\n",
              "      <td>0</td>\n",
              "      <td>0</td>\n",
              "      <td>0</td>\n",
              "      <td>0</td>\n",
              "      <td>0</td>\n",
              "      <td>0</td>\n",
              "      <td>0</td>\n",
              "      <td>0</td>\n",
              "      <td>1</td>\n",
              "      <td>0</td>\n",
              "      <td>0</td>\n",
              "    </tr>\n",
              "    <tr>\n",
              "      <th>3</th>\n",
              "      <td>4</td>\n",
              "      <td>Get Shorty (1995)</td>\n",
              "      <td>1</td>\n",
              "      <td>0</td>\n",
              "      <td>0</td>\n",
              "      <td>0</td>\n",
              "      <td>1</td>\n",
              "      <td>0</td>\n",
              "      <td>0</td>\n",
              "      <td>1</td>\n",
              "      <td>0</td>\n",
              "      <td>0</td>\n",
              "      <td>0</td>\n",
              "      <td>0</td>\n",
              "      <td>0</td>\n",
              "      <td>0</td>\n",
              "      <td>0</td>\n",
              "      <td>0</td>\n",
              "      <td>0</td>\n",
              "      <td>0</td>\n",
              "    </tr>\n",
              "    <tr>\n",
              "      <th>4</th>\n",
              "      <td>5</td>\n",
              "      <td>Copycat (1995)</td>\n",
              "      <td>0</td>\n",
              "      <td>0</td>\n",
              "      <td>0</td>\n",
              "      <td>0</td>\n",
              "      <td>0</td>\n",
              "      <td>1</td>\n",
              "      <td>0</td>\n",
              "      <td>1</td>\n",
              "      <td>0</td>\n",
              "      <td>0</td>\n",
              "      <td>0</td>\n",
              "      <td>0</td>\n",
              "      <td>0</td>\n",
              "      <td>0</td>\n",
              "      <td>0</td>\n",
              "      <td>1</td>\n",
              "      <td>0</td>\n",
              "      <td>0</td>\n",
              "    </tr>\n",
              "  </tbody>\n",
              "</table>\n",
              "</div>\n",
              "      <button class=\"colab-df-convert\" onclick=\"convertToInteractive('df-d4c65449-f098-474d-a733-b146e2b07015')\"\n",
              "              title=\"Convert this dataframe to an interactive table.\"\n",
              "              style=\"display:none;\">\n",
              "        \n",
              "  <svg xmlns=\"http://www.w3.org/2000/svg\" height=\"24px\"viewBox=\"0 0 24 24\"\n",
              "       width=\"24px\">\n",
              "    <path d=\"M0 0h24v24H0V0z\" fill=\"none\"/>\n",
              "    <path d=\"M18.56 5.44l.94 2.06.94-2.06 2.06-.94-2.06-.94-.94-2.06-.94 2.06-2.06.94zm-11 1L8.5 8.5l.94-2.06 2.06-.94-2.06-.94L8.5 2.5l-.94 2.06-2.06.94zm10 10l.94 2.06.94-2.06 2.06-.94-2.06-.94-.94-2.06-.94 2.06-2.06.94z\"/><path d=\"M17.41 7.96l-1.37-1.37c-.4-.4-.92-.59-1.43-.59-.52 0-1.04.2-1.43.59L10.3 9.45l-7.72 7.72c-.78.78-.78 2.05 0 2.83L4 21.41c.39.39.9.59 1.41.59.51 0 1.02-.2 1.41-.59l7.78-7.78 2.81-2.81c.8-.78.8-2.07 0-2.86zM5.41 20L4 18.59l7.72-7.72 1.47 1.35L5.41 20z\"/>\n",
              "  </svg>\n",
              "      </button>\n",
              "      \n",
              "  <style>\n",
              "    .colab-df-container {\n",
              "      display:flex;\n",
              "      flex-wrap:wrap;\n",
              "      gap: 12px;\n",
              "    }\n",
              "\n",
              "    .colab-df-convert {\n",
              "      background-color: #E8F0FE;\n",
              "      border: none;\n",
              "      border-radius: 50%;\n",
              "      cursor: pointer;\n",
              "      display: none;\n",
              "      fill: #1967D2;\n",
              "      height: 32px;\n",
              "      padding: 0 0 0 0;\n",
              "      width: 32px;\n",
              "    }\n",
              "\n",
              "    .colab-df-convert:hover {\n",
              "      background-color: #E2EBFA;\n",
              "      box-shadow: 0px 1px 2px rgba(60, 64, 67, 0.3), 0px 1px 3px 1px rgba(60, 64, 67, 0.15);\n",
              "      fill: #174EA6;\n",
              "    }\n",
              "\n",
              "    [theme=dark] .colab-df-convert {\n",
              "      background-color: #3B4455;\n",
              "      fill: #D2E3FC;\n",
              "    }\n",
              "\n",
              "    [theme=dark] .colab-df-convert:hover {\n",
              "      background-color: #434B5C;\n",
              "      box-shadow: 0px 1px 3px 1px rgba(0, 0, 0, 0.15);\n",
              "      filter: drop-shadow(0px 1px 2px rgba(0, 0, 0, 0.3));\n",
              "      fill: #FFFFFF;\n",
              "    }\n",
              "  </style>\n",
              "\n",
              "      <script>\n",
              "        const buttonEl =\n",
              "          document.querySelector('#df-d4c65449-f098-474d-a733-b146e2b07015 button.colab-df-convert');\n",
              "        buttonEl.style.display =\n",
              "          google.colab.kernel.accessAllowed ? 'block' : 'none';\n",
              "\n",
              "        async function convertToInteractive(key) {\n",
              "          const element = document.querySelector('#df-d4c65449-f098-474d-a733-b146e2b07015');\n",
              "          const dataTable =\n",
              "            await google.colab.kernel.invokeFunction('convertToInteractive',\n",
              "                                                     [key], {});\n",
              "          if (!dataTable) return;\n",
              "\n",
              "          const docLinkHtml = 'Like what you see? Visit the ' +\n",
              "            '<a target=\"_blank\" href=https://colab.research.google.com/notebooks/data_table.ipynb>data table notebook</a>'\n",
              "            + ' to learn more about interactive tables.';\n",
              "          element.innerHTML = '';\n",
              "          dataTable['output_type'] = 'display_data';\n",
              "          await google.colab.output.renderOutput(dataTable, element);\n",
              "          const docLink = document.createElement('div');\n",
              "          docLink.innerHTML = docLinkHtml;\n",
              "          element.appendChild(docLink);\n",
              "        }\n",
              "      </script>\n",
              "    </div>\n",
              "  </div>\n",
              "  "
            ]
          },
          "metadata": {},
          "execution_count": 5
        }
      ]
    },
    {
      "cell_type": "markdown",
      "source": [
        "Checking for null values"
      ],
      "metadata": {
        "id": "3kVWDePbVbU2"
      }
    },
    {
      "cell_type": "code",
      "source": [
        "ratings_dataset_df.isnull().sum()"
      ],
      "metadata": {
        "colab": {
          "base_uri": "https://localhost:8080/"
        },
        "id": "-popaN5hLL-y",
        "outputId": "2f73e5af-1caa-4445-bfb4-68336cce6d4b"
      },
      "execution_count": 44,
      "outputs": [
        {
          "output_type": "execute_result",
          "data": {
            "text/plain": [
              "user id      0\n",
              "movie id     0\n",
              "rating       0\n",
              "timestamp    0\n",
              "dtype: int64"
            ]
          },
          "metadata": {},
          "execution_count": 44
        }
      ]
    },
    {
      "cell_type": "code",
      "source": [
        "movie_dataset_df.isnull().sum()"
      ],
      "metadata": {
        "colab": {
          "base_uri": "https://localhost:8080/"
        },
        "id": "ZHxCiaIcLXJF",
        "outputId": "f98ce411-6ed4-4763-f8d1-27406b0626e1"
      },
      "execution_count": 45,
      "outputs": [
        {
          "output_type": "execute_result",
          "data": {
            "text/plain": [
              "movie id       0\n",
              "movie title    0\n",
              "Action         0\n",
              "Adventure      0\n",
              "Animation      0\n",
              "Children       0\n",
              "Comedy         0\n",
              "Crime          0\n",
              "Documentary    0\n",
              "Drama          0\n",
              "Fantasy        0\n",
              "Film-Noir      0\n",
              "Horror         0\n",
              "Musical        0\n",
              "Mystery        0\n",
              "Romance        0\n",
              "Sci-Fi         0\n",
              "Thriller       0\n",
              "War            0\n",
              "Western        0\n",
              "dtype: int64"
            ]
          },
          "metadata": {},
          "execution_count": 45
        }
      ]
    },
    {
      "cell_type": "markdown",
      "source": [
        "Joining the datasets using pd.merge.\n",
        "Here we are performing innner join on movie id"
      ],
      "metadata": {
        "id": "L0HDfqG5VfB5"
      }
    },
    {
      "cell_type": "code",
      "source": [
        "combined_dataset_df = pd.merge(ratings_dataset_df, movie_dataset_df, how='inner', on='movie id')\n",
        "combined_dataset_df.head()"
      ],
      "metadata": {
        "colab": {
          "base_uri": "https://localhost:8080/",
          "height": 236
        },
        "id": "n1pXfpqA9L4F",
        "outputId": "03bc48ab-27d1-4402-941f-f90ad7e736c1"
      },
      "execution_count": 6,
      "outputs": [
        {
          "output_type": "execute_result",
          "data": {
            "text/plain": [
              "   user id  movie id  rating  timestamp   movie title  Action  Adventure  \\\n",
              "0      196       242       3  881250949  Kolya (1996)       0          0   \n",
              "1       63       242       3  875747190  Kolya (1996)       0          0   \n",
              "2      226       242       5  883888671  Kolya (1996)       0          0   \n",
              "3      154       242       3  879138235  Kolya (1996)       0          0   \n",
              "4      306       242       5  876503793  Kolya (1996)       0          0   \n",
              "\n",
              "   Animation  Children  Comedy  ...  Fantasy  Film-Noir  Horror  Musical  \\\n",
              "0          0         0       1  ...        0          0       0        0   \n",
              "1          0         0       1  ...        0          0       0        0   \n",
              "2          0         0       1  ...        0          0       0        0   \n",
              "3          0         0       1  ...        0          0       0        0   \n",
              "4          0         0       1  ...        0          0       0        0   \n",
              "\n",
              "   Mystery  Romance  Sci-Fi  Thriller  War  Western  \n",
              "0        0        0       0         0    0        0  \n",
              "1        0        0       0         0    0        0  \n",
              "2        0        0       0         0    0        0  \n",
              "3        0        0       0         0    0        0  \n",
              "4        0        0       0         0    0        0  \n",
              "\n",
              "[5 rows x 23 columns]"
            ],
            "text/html": [
              "\n",
              "  <div id=\"df-26250ab7-52f3-47fb-b1b1-550f0c8cfb44\">\n",
              "    <div class=\"colab-df-container\">\n",
              "      <div>\n",
              "<style scoped>\n",
              "    .dataframe tbody tr th:only-of-type {\n",
              "        vertical-align: middle;\n",
              "    }\n",
              "\n",
              "    .dataframe tbody tr th {\n",
              "        vertical-align: top;\n",
              "    }\n",
              "\n",
              "    .dataframe thead th {\n",
              "        text-align: right;\n",
              "    }\n",
              "</style>\n",
              "<table border=\"1\" class=\"dataframe\">\n",
              "  <thead>\n",
              "    <tr style=\"text-align: right;\">\n",
              "      <th></th>\n",
              "      <th>user id</th>\n",
              "      <th>movie id</th>\n",
              "      <th>rating</th>\n",
              "      <th>timestamp</th>\n",
              "      <th>movie title</th>\n",
              "      <th>Action</th>\n",
              "      <th>Adventure</th>\n",
              "      <th>Animation</th>\n",
              "      <th>Children</th>\n",
              "      <th>Comedy</th>\n",
              "      <th>...</th>\n",
              "      <th>Fantasy</th>\n",
              "      <th>Film-Noir</th>\n",
              "      <th>Horror</th>\n",
              "      <th>Musical</th>\n",
              "      <th>Mystery</th>\n",
              "      <th>Romance</th>\n",
              "      <th>Sci-Fi</th>\n",
              "      <th>Thriller</th>\n",
              "      <th>War</th>\n",
              "      <th>Western</th>\n",
              "    </tr>\n",
              "  </thead>\n",
              "  <tbody>\n",
              "    <tr>\n",
              "      <th>0</th>\n",
              "      <td>196</td>\n",
              "      <td>242</td>\n",
              "      <td>3</td>\n",
              "      <td>881250949</td>\n",
              "      <td>Kolya (1996)</td>\n",
              "      <td>0</td>\n",
              "      <td>0</td>\n",
              "      <td>0</td>\n",
              "      <td>0</td>\n",
              "      <td>1</td>\n",
              "      <td>...</td>\n",
              "      <td>0</td>\n",
              "      <td>0</td>\n",
              "      <td>0</td>\n",
              "      <td>0</td>\n",
              "      <td>0</td>\n",
              "      <td>0</td>\n",
              "      <td>0</td>\n",
              "      <td>0</td>\n",
              "      <td>0</td>\n",
              "      <td>0</td>\n",
              "    </tr>\n",
              "    <tr>\n",
              "      <th>1</th>\n",
              "      <td>63</td>\n",
              "      <td>242</td>\n",
              "      <td>3</td>\n",
              "      <td>875747190</td>\n",
              "      <td>Kolya (1996)</td>\n",
              "      <td>0</td>\n",
              "      <td>0</td>\n",
              "      <td>0</td>\n",
              "      <td>0</td>\n",
              "      <td>1</td>\n",
              "      <td>...</td>\n",
              "      <td>0</td>\n",
              "      <td>0</td>\n",
              "      <td>0</td>\n",
              "      <td>0</td>\n",
              "      <td>0</td>\n",
              "      <td>0</td>\n",
              "      <td>0</td>\n",
              "      <td>0</td>\n",
              "      <td>0</td>\n",
              "      <td>0</td>\n",
              "    </tr>\n",
              "    <tr>\n",
              "      <th>2</th>\n",
              "      <td>226</td>\n",
              "      <td>242</td>\n",
              "      <td>5</td>\n",
              "      <td>883888671</td>\n",
              "      <td>Kolya (1996)</td>\n",
              "      <td>0</td>\n",
              "      <td>0</td>\n",
              "      <td>0</td>\n",
              "      <td>0</td>\n",
              "      <td>1</td>\n",
              "      <td>...</td>\n",
              "      <td>0</td>\n",
              "      <td>0</td>\n",
              "      <td>0</td>\n",
              "      <td>0</td>\n",
              "      <td>0</td>\n",
              "      <td>0</td>\n",
              "      <td>0</td>\n",
              "      <td>0</td>\n",
              "      <td>0</td>\n",
              "      <td>0</td>\n",
              "    </tr>\n",
              "    <tr>\n",
              "      <th>3</th>\n",
              "      <td>154</td>\n",
              "      <td>242</td>\n",
              "      <td>3</td>\n",
              "      <td>879138235</td>\n",
              "      <td>Kolya (1996)</td>\n",
              "      <td>0</td>\n",
              "      <td>0</td>\n",
              "      <td>0</td>\n",
              "      <td>0</td>\n",
              "      <td>1</td>\n",
              "      <td>...</td>\n",
              "      <td>0</td>\n",
              "      <td>0</td>\n",
              "      <td>0</td>\n",
              "      <td>0</td>\n",
              "      <td>0</td>\n",
              "      <td>0</td>\n",
              "      <td>0</td>\n",
              "      <td>0</td>\n",
              "      <td>0</td>\n",
              "      <td>0</td>\n",
              "    </tr>\n",
              "    <tr>\n",
              "      <th>4</th>\n",
              "      <td>306</td>\n",
              "      <td>242</td>\n",
              "      <td>5</td>\n",
              "      <td>876503793</td>\n",
              "      <td>Kolya (1996)</td>\n",
              "      <td>0</td>\n",
              "      <td>0</td>\n",
              "      <td>0</td>\n",
              "      <td>0</td>\n",
              "      <td>1</td>\n",
              "      <td>...</td>\n",
              "      <td>0</td>\n",
              "      <td>0</td>\n",
              "      <td>0</td>\n",
              "      <td>0</td>\n",
              "      <td>0</td>\n",
              "      <td>0</td>\n",
              "      <td>0</td>\n",
              "      <td>0</td>\n",
              "      <td>0</td>\n",
              "      <td>0</td>\n",
              "    </tr>\n",
              "  </tbody>\n",
              "</table>\n",
              "<p>5 rows × 23 columns</p>\n",
              "</div>\n",
              "      <button class=\"colab-df-convert\" onclick=\"convertToInteractive('df-26250ab7-52f3-47fb-b1b1-550f0c8cfb44')\"\n",
              "              title=\"Convert this dataframe to an interactive table.\"\n",
              "              style=\"display:none;\">\n",
              "        \n",
              "  <svg xmlns=\"http://www.w3.org/2000/svg\" height=\"24px\"viewBox=\"0 0 24 24\"\n",
              "       width=\"24px\">\n",
              "    <path d=\"M0 0h24v24H0V0z\" fill=\"none\"/>\n",
              "    <path d=\"M18.56 5.44l.94 2.06.94-2.06 2.06-.94-2.06-.94-.94-2.06-.94 2.06-2.06.94zm-11 1L8.5 8.5l.94-2.06 2.06-.94-2.06-.94L8.5 2.5l-.94 2.06-2.06.94zm10 10l.94 2.06.94-2.06 2.06-.94-2.06-.94-.94-2.06-.94 2.06-2.06.94z\"/><path d=\"M17.41 7.96l-1.37-1.37c-.4-.4-.92-.59-1.43-.59-.52 0-1.04.2-1.43.59L10.3 9.45l-7.72 7.72c-.78.78-.78 2.05 0 2.83L4 21.41c.39.39.9.59 1.41.59.51 0 1.02-.2 1.41-.59l7.78-7.78 2.81-2.81c.8-.78.8-2.07 0-2.86zM5.41 20L4 18.59l7.72-7.72 1.47 1.35L5.41 20z\"/>\n",
              "  </svg>\n",
              "      </button>\n",
              "      \n",
              "  <style>\n",
              "    .colab-df-container {\n",
              "      display:flex;\n",
              "      flex-wrap:wrap;\n",
              "      gap: 12px;\n",
              "    }\n",
              "\n",
              "    .colab-df-convert {\n",
              "      background-color: #E8F0FE;\n",
              "      border: none;\n",
              "      border-radius: 50%;\n",
              "      cursor: pointer;\n",
              "      display: none;\n",
              "      fill: #1967D2;\n",
              "      height: 32px;\n",
              "      padding: 0 0 0 0;\n",
              "      width: 32px;\n",
              "    }\n",
              "\n",
              "    .colab-df-convert:hover {\n",
              "      background-color: #E2EBFA;\n",
              "      box-shadow: 0px 1px 2px rgba(60, 64, 67, 0.3), 0px 1px 3px 1px rgba(60, 64, 67, 0.15);\n",
              "      fill: #174EA6;\n",
              "    }\n",
              "\n",
              "    [theme=dark] .colab-df-convert {\n",
              "      background-color: #3B4455;\n",
              "      fill: #D2E3FC;\n",
              "    }\n",
              "\n",
              "    [theme=dark] .colab-df-convert:hover {\n",
              "      background-color: #434B5C;\n",
              "      box-shadow: 0px 1px 3px 1px rgba(0, 0, 0, 0.15);\n",
              "      filter: drop-shadow(0px 1px 2px rgba(0, 0, 0, 0.3));\n",
              "      fill: #FFFFFF;\n",
              "    }\n",
              "  </style>\n",
              "\n",
              "      <script>\n",
              "        const buttonEl =\n",
              "          document.querySelector('#df-26250ab7-52f3-47fb-b1b1-550f0c8cfb44 button.colab-df-convert');\n",
              "        buttonEl.style.display =\n",
              "          google.colab.kernel.accessAllowed ? 'block' : 'none';\n",
              "\n",
              "        async function convertToInteractive(key) {\n",
              "          const element = document.querySelector('#df-26250ab7-52f3-47fb-b1b1-550f0c8cfb44');\n",
              "          const dataTable =\n",
              "            await google.colab.kernel.invokeFunction('convertToInteractive',\n",
              "                                                     [key], {});\n",
              "          if (!dataTable) return;\n",
              "\n",
              "          const docLinkHtml = 'Like what you see? Visit the ' +\n",
              "            '<a target=\"_blank\" href=https://colab.research.google.com/notebooks/data_table.ipynb>data table notebook</a>'\n",
              "            + ' to learn more about interactive tables.';\n",
              "          element.innerHTML = '';\n",
              "          dataTable['output_type'] = 'display_data';\n",
              "          await google.colab.output.renderOutput(dataTable, element);\n",
              "          const docLink = document.createElement('div');\n",
              "          docLink.innerHTML = docLinkHtml;\n",
              "          element.appendChild(docLink);\n",
              "        }\n",
              "      </script>\n",
              "    </div>\n",
              "  </div>\n",
              "  "
            ]
          },
          "metadata": {},
          "execution_count": 6
        }
      ]
    },
    {
      "cell_type": "code",
      "source": [
        "final_dataset = combined_dataset_df\n",
        "final_dataset.head() #display first 5 rows of the final dataset"
      ],
      "metadata": {
        "colab": {
          "base_uri": "https://localhost:8080/",
          "height": 236
        },
        "id": "WpRAMMRH9c-j",
        "outputId": "5037512b-c5c9-47d6-ae42-6da548199043"
      },
      "execution_count": 7,
      "outputs": [
        {
          "output_type": "execute_result",
          "data": {
            "text/plain": [
              "   user id  movie id  rating  timestamp   movie title  Action  Adventure  \\\n",
              "0      196       242       3  881250949  Kolya (1996)       0          0   \n",
              "1       63       242       3  875747190  Kolya (1996)       0          0   \n",
              "2      226       242       5  883888671  Kolya (1996)       0          0   \n",
              "3      154       242       3  879138235  Kolya (1996)       0          0   \n",
              "4      306       242       5  876503793  Kolya (1996)       0          0   \n",
              "\n",
              "   Animation  Children  Comedy  ...  Fantasy  Film-Noir  Horror  Musical  \\\n",
              "0          0         0       1  ...        0          0       0        0   \n",
              "1          0         0       1  ...        0          0       0        0   \n",
              "2          0         0       1  ...        0          0       0        0   \n",
              "3          0         0       1  ...        0          0       0        0   \n",
              "4          0         0       1  ...        0          0       0        0   \n",
              "\n",
              "   Mystery  Romance  Sci-Fi  Thriller  War  Western  \n",
              "0        0        0       0         0    0        0  \n",
              "1        0        0       0         0    0        0  \n",
              "2        0        0       0         0    0        0  \n",
              "3        0        0       0         0    0        0  \n",
              "4        0        0       0         0    0        0  \n",
              "\n",
              "[5 rows x 23 columns]"
            ],
            "text/html": [
              "\n",
              "  <div id=\"df-3dd570ad-e9e2-40d7-9728-ed434ba76718\">\n",
              "    <div class=\"colab-df-container\">\n",
              "      <div>\n",
              "<style scoped>\n",
              "    .dataframe tbody tr th:only-of-type {\n",
              "        vertical-align: middle;\n",
              "    }\n",
              "\n",
              "    .dataframe tbody tr th {\n",
              "        vertical-align: top;\n",
              "    }\n",
              "\n",
              "    .dataframe thead th {\n",
              "        text-align: right;\n",
              "    }\n",
              "</style>\n",
              "<table border=\"1\" class=\"dataframe\">\n",
              "  <thead>\n",
              "    <tr style=\"text-align: right;\">\n",
              "      <th></th>\n",
              "      <th>user id</th>\n",
              "      <th>movie id</th>\n",
              "      <th>rating</th>\n",
              "      <th>timestamp</th>\n",
              "      <th>movie title</th>\n",
              "      <th>Action</th>\n",
              "      <th>Adventure</th>\n",
              "      <th>Animation</th>\n",
              "      <th>Children</th>\n",
              "      <th>Comedy</th>\n",
              "      <th>...</th>\n",
              "      <th>Fantasy</th>\n",
              "      <th>Film-Noir</th>\n",
              "      <th>Horror</th>\n",
              "      <th>Musical</th>\n",
              "      <th>Mystery</th>\n",
              "      <th>Romance</th>\n",
              "      <th>Sci-Fi</th>\n",
              "      <th>Thriller</th>\n",
              "      <th>War</th>\n",
              "      <th>Western</th>\n",
              "    </tr>\n",
              "  </thead>\n",
              "  <tbody>\n",
              "    <tr>\n",
              "      <th>0</th>\n",
              "      <td>196</td>\n",
              "      <td>242</td>\n",
              "      <td>3</td>\n",
              "      <td>881250949</td>\n",
              "      <td>Kolya (1996)</td>\n",
              "      <td>0</td>\n",
              "      <td>0</td>\n",
              "      <td>0</td>\n",
              "      <td>0</td>\n",
              "      <td>1</td>\n",
              "      <td>...</td>\n",
              "      <td>0</td>\n",
              "      <td>0</td>\n",
              "      <td>0</td>\n",
              "      <td>0</td>\n",
              "      <td>0</td>\n",
              "      <td>0</td>\n",
              "      <td>0</td>\n",
              "      <td>0</td>\n",
              "      <td>0</td>\n",
              "      <td>0</td>\n",
              "    </tr>\n",
              "    <tr>\n",
              "      <th>1</th>\n",
              "      <td>63</td>\n",
              "      <td>242</td>\n",
              "      <td>3</td>\n",
              "      <td>875747190</td>\n",
              "      <td>Kolya (1996)</td>\n",
              "      <td>0</td>\n",
              "      <td>0</td>\n",
              "      <td>0</td>\n",
              "      <td>0</td>\n",
              "      <td>1</td>\n",
              "      <td>...</td>\n",
              "      <td>0</td>\n",
              "      <td>0</td>\n",
              "      <td>0</td>\n",
              "      <td>0</td>\n",
              "      <td>0</td>\n",
              "      <td>0</td>\n",
              "      <td>0</td>\n",
              "      <td>0</td>\n",
              "      <td>0</td>\n",
              "      <td>0</td>\n",
              "    </tr>\n",
              "    <tr>\n",
              "      <th>2</th>\n",
              "      <td>226</td>\n",
              "      <td>242</td>\n",
              "      <td>5</td>\n",
              "      <td>883888671</td>\n",
              "      <td>Kolya (1996)</td>\n",
              "      <td>0</td>\n",
              "      <td>0</td>\n",
              "      <td>0</td>\n",
              "      <td>0</td>\n",
              "      <td>1</td>\n",
              "      <td>...</td>\n",
              "      <td>0</td>\n",
              "      <td>0</td>\n",
              "      <td>0</td>\n",
              "      <td>0</td>\n",
              "      <td>0</td>\n",
              "      <td>0</td>\n",
              "      <td>0</td>\n",
              "      <td>0</td>\n",
              "      <td>0</td>\n",
              "      <td>0</td>\n",
              "    </tr>\n",
              "    <tr>\n",
              "      <th>3</th>\n",
              "      <td>154</td>\n",
              "      <td>242</td>\n",
              "      <td>3</td>\n",
              "      <td>879138235</td>\n",
              "      <td>Kolya (1996)</td>\n",
              "      <td>0</td>\n",
              "      <td>0</td>\n",
              "      <td>0</td>\n",
              "      <td>0</td>\n",
              "      <td>1</td>\n",
              "      <td>...</td>\n",
              "      <td>0</td>\n",
              "      <td>0</td>\n",
              "      <td>0</td>\n",
              "      <td>0</td>\n",
              "      <td>0</td>\n",
              "      <td>0</td>\n",
              "      <td>0</td>\n",
              "      <td>0</td>\n",
              "      <td>0</td>\n",
              "      <td>0</td>\n",
              "    </tr>\n",
              "    <tr>\n",
              "      <th>4</th>\n",
              "      <td>306</td>\n",
              "      <td>242</td>\n",
              "      <td>5</td>\n",
              "      <td>876503793</td>\n",
              "      <td>Kolya (1996)</td>\n",
              "      <td>0</td>\n",
              "      <td>0</td>\n",
              "      <td>0</td>\n",
              "      <td>0</td>\n",
              "      <td>1</td>\n",
              "      <td>...</td>\n",
              "      <td>0</td>\n",
              "      <td>0</td>\n",
              "      <td>0</td>\n",
              "      <td>0</td>\n",
              "      <td>0</td>\n",
              "      <td>0</td>\n",
              "      <td>0</td>\n",
              "      <td>0</td>\n",
              "      <td>0</td>\n",
              "      <td>0</td>\n",
              "    </tr>\n",
              "  </tbody>\n",
              "</table>\n",
              "<p>5 rows × 23 columns</p>\n",
              "</div>\n",
              "      <button class=\"colab-df-convert\" onclick=\"convertToInteractive('df-3dd570ad-e9e2-40d7-9728-ed434ba76718')\"\n",
              "              title=\"Convert this dataframe to an interactive table.\"\n",
              "              style=\"display:none;\">\n",
              "        \n",
              "  <svg xmlns=\"http://www.w3.org/2000/svg\" height=\"24px\"viewBox=\"0 0 24 24\"\n",
              "       width=\"24px\">\n",
              "    <path d=\"M0 0h24v24H0V0z\" fill=\"none\"/>\n",
              "    <path d=\"M18.56 5.44l.94 2.06.94-2.06 2.06-.94-2.06-.94-.94-2.06-.94 2.06-2.06.94zm-11 1L8.5 8.5l.94-2.06 2.06-.94-2.06-.94L8.5 2.5l-.94 2.06-2.06.94zm10 10l.94 2.06.94-2.06 2.06-.94-2.06-.94-.94-2.06-.94 2.06-2.06.94z\"/><path d=\"M17.41 7.96l-1.37-1.37c-.4-.4-.92-.59-1.43-.59-.52 0-1.04.2-1.43.59L10.3 9.45l-7.72 7.72c-.78.78-.78 2.05 0 2.83L4 21.41c.39.39.9.59 1.41.59.51 0 1.02-.2 1.41-.59l7.78-7.78 2.81-2.81c.8-.78.8-2.07 0-2.86zM5.41 20L4 18.59l7.72-7.72 1.47 1.35L5.41 20z\"/>\n",
              "  </svg>\n",
              "      </button>\n",
              "      \n",
              "  <style>\n",
              "    .colab-df-container {\n",
              "      display:flex;\n",
              "      flex-wrap:wrap;\n",
              "      gap: 12px;\n",
              "    }\n",
              "\n",
              "    .colab-df-convert {\n",
              "      background-color: #E8F0FE;\n",
              "      border: none;\n",
              "      border-radius: 50%;\n",
              "      cursor: pointer;\n",
              "      display: none;\n",
              "      fill: #1967D2;\n",
              "      height: 32px;\n",
              "      padding: 0 0 0 0;\n",
              "      width: 32px;\n",
              "    }\n",
              "\n",
              "    .colab-df-convert:hover {\n",
              "      background-color: #E2EBFA;\n",
              "      box-shadow: 0px 1px 2px rgba(60, 64, 67, 0.3), 0px 1px 3px 1px rgba(60, 64, 67, 0.15);\n",
              "      fill: #174EA6;\n",
              "    }\n",
              "\n",
              "    [theme=dark] .colab-df-convert {\n",
              "      background-color: #3B4455;\n",
              "      fill: #D2E3FC;\n",
              "    }\n",
              "\n",
              "    [theme=dark] .colab-df-convert:hover {\n",
              "      background-color: #434B5C;\n",
              "      box-shadow: 0px 1px 3px 1px rgba(0, 0, 0, 0.15);\n",
              "      filter: drop-shadow(0px 1px 2px rgba(0, 0, 0, 0.3));\n",
              "      fill: #FFFFFF;\n",
              "    }\n",
              "  </style>\n",
              "\n",
              "      <script>\n",
              "        const buttonEl =\n",
              "          document.querySelector('#df-3dd570ad-e9e2-40d7-9728-ed434ba76718 button.colab-df-convert');\n",
              "        buttonEl.style.display =\n",
              "          google.colab.kernel.accessAllowed ? 'block' : 'none';\n",
              "\n",
              "        async function convertToInteractive(key) {\n",
              "          const element = document.querySelector('#df-3dd570ad-e9e2-40d7-9728-ed434ba76718');\n",
              "          const dataTable =\n",
              "            await google.colab.kernel.invokeFunction('convertToInteractive',\n",
              "                                                     [key], {});\n",
              "          if (!dataTable) return;\n",
              "\n",
              "          const docLinkHtml = 'Like what you see? Visit the ' +\n",
              "            '<a target=\"_blank\" href=https://colab.research.google.com/notebooks/data_table.ipynb>data table notebook</a>'\n",
              "            + ' to learn more about interactive tables.';\n",
              "          element.innerHTML = '';\n",
              "          dataTable['output_type'] = 'display_data';\n",
              "          await google.colab.output.renderOutput(dataTable, element);\n",
              "          const docLink = document.createElement('div');\n",
              "          docLink.innerHTML = docLinkHtml;\n",
              "          element.appendChild(docLink);\n",
              "        }\n",
              "      </script>\n",
              "    </div>\n",
              "  </div>\n",
              "  "
            ]
          },
          "metadata": {},
          "execution_count": 7
        }
      ]
    },
    {
      "cell_type": "markdown",
      "source": [
        "---"
      ],
      "metadata": {
        "id": "SIflQyOvWVY5"
      }
    },
    {
      "cell_type": "markdown",
      "source": [
        "####Top Rated Movies form the data"
      ],
      "metadata": {
        "id": "IZcN_6q7V0Kr"
      }
    },
    {
      "cell_type": "code",
      "source": [
        "top_movies = final_dataset.groupby(\"movie title\").size().sort_values(ascending=False)[:15]\n",
        "\n",
        "# plot the counts\n",
        "plt.figure(figsize=(12, 5))\n",
        "plt.barh(y= top_movies.index,\n",
        "         width= top_movies.values)\n",
        "plt.title(\"Top 15 Most Rated Movies in the Data\", fontsize=16)\n",
        "plt.ylabel(\"Moives\")\n",
        "plt.xlabel(\"Count\")\n",
        "plt.show()"
      ],
      "metadata": {
        "colab": {
          "base_uri": "https://localhost:8080/",
          "height": 352
        },
        "id": "H8QQfZPSPA22",
        "outputId": "35fe4ce0-7938-4046-e0ba-8afc9408c1cf"
      },
      "execution_count": 53,
      "outputs": [
        {
          "output_type": "display_data",
          "data": {
            "text/plain": [
              "<Figure size 864x360 with 1 Axes>"
            ],
            "image/png": "[encoded data removed]"
          },
          "metadata": {
            "needs_background": "light"
          }
        }
      ]
    },
    {
      "cell_type": "markdown",
      "source": [
        "####Least Rated Movies"
      ],
      "metadata": {
        "id": "r6E_nYnNV3r9"
      }
    },
    {
      "cell_type": "code",
      "source": [
        "# the least rated movies \n",
        "least_movies = final_dataset.groupby(\"movie title\").size().sort_values(ascending=False)[-15:]\n",
        "# plot the counts\n",
        "plt.figure(figsize=(8, 5))\n",
        "plt.barh(y= least_movies.index,\n",
        "         width= least_movies.values)\n",
        "plt.title(\"Least 15 Rated Movies in the Data\", fontsize=16)\n",
        "plt.ylabel(\"Moives\")\n",
        "plt.xlabel(\"Count\")\n",
        "plt.show()\n"
      ],
      "metadata": {
        "colab": {
          "base_uri": "https://localhost:8080/",
          "height": 352
        },
        "id": "jxyLWLhJP1U1",
        "outputId": "b1df1642-7fcb-4ae4-ed5c-8294e654b147"
      },
      "execution_count": 60,
      "outputs": [
        {
          "output_type": "display_data",
          "data": {
            "text/plain": [
              "<Figure size 576x360 with 1 Axes>"
            ],
            "image/png": "[encoded data removed]"
          },
          "metadata": {
            "needs_background": "light"
          }
        }
      ]
    },
    {
      "cell_type": "markdown",
      "source": [
        "####No. of movies produced each year"
      ],
      "metadata": {
        "id": "16duOdtNV-LU"
      }
    },
    {
      "cell_type": "code",
      "source": [
        "# creating year column from Movie title \n",
        "final_dataset[\"year\"] = final_dataset[\"movie title\"].str.extract(\"\\((\\d{4})\\)\", expand=True)\n",
        "# return rows by the year \n",
        "year_counts = final_dataset[[\"movie title\", \"year\"]].groupby(\"year\").size()\n",
        "\n",
        "fig, ax = plt.subplots(figsize=(12, 5)) \n",
        "ax.plot(year_counts.index, year_counts.values)\n",
        "ax.xaxis.set_major_locator(plt.MaxNLocator(9))\n",
        "plt.title(\"Number of movies per Annum\", fontsize=16)\n",
        "plt.xlabel(\"Year\")\n",
        "plt.ylabel(\"# of Movies Released\")\n",
        "plt.show()"
      ],
      "metadata": {
        "colab": {
          "base_uri": "https://localhost:8080/",
          "height": 352
        },
        "id": "kjD4LJ1HQTH3",
        "outputId": "ec0aced3-2ab1-4624-ad95-eb4d6118462c"
      },
      "execution_count": 57,
      "outputs": [
        {
          "output_type": "display_data",
          "data": {
            "text/plain": [
              "<Figure size 864x360 with 1 Axes>"
            ],
            "image/png": "[encoded data removed]"
          },
          "metadata": {
            "needs_background": "light"
          }
        }
      ]
    },
    {
      "cell_type": "markdown",
      "source": [
        "####Most Popular Genres"
      ],
      "metadata": {
        "id": "kvjp5wCEWC9i"
      }
    },
    {
      "cell_type": "code",
      "source": [
        "feature_names=['Action','Adventure','Animation','Children','Comedy','Crime','Documentary','Drama','Fantasy','Film-Noir','Horror','Musical','Mystery','Romance','Sci-Fi','Thriller','War','Western']\n",
        "# get the genre names in the dataframe and their counts\n",
        "label= items_dataset_df.loc[:, \"unknown\":].sum().index\n",
        "label_counts= items_dataset_df.loc[:, \"unknown\":].sum().values\n",
        "# plot a bar chart\n",
        "plt.figure(figsize=(12, 5))\n",
        "plt.barh(y= label, width= label_counts)\n",
        "plt.title(\"Genre Popularity\", fontsize=16)\n",
        "plt.ylabel(\"Genres\", fontsize=14)\n",
        "plt.xlabel(\"Counts\", fontsize=14)\n",
        "plt.show()"
      ],
      "metadata": {
        "colab": {
          "base_uri": "https://localhost:8080/",
          "height": 356
        },
        "id": "ea4csP60Qycl",
        "outputId": "782b1335-14a9-4519-d8a8-de48699d3043"
      },
      "execution_count": 59,
      "outputs": [
        {
          "output_type": "display_data",
          "data": {
            "text/plain": [
              "<Figure size 864x360 with 1 Axes>"
            ],
            "image/png": "[encoded data removed]"
          },
          "metadata": {
            "needs_background": "light"
          }
        }
      ]
    },
    {
      "cell_type": "markdown",
      "source": [
        "---"
      ],
      "metadata": {
        "id": "DjL1xUeqWMtH"
      }
    },
    {
      "cell_type": "markdown",
      "source": [
        "##Preparing Input Data"
      ],
      "metadata": {
        "id": "KjvXcIURWKDp"
      }
    },
    {
      "cell_type": "markdown",
      "source": [
        "####Using LabelEncoder for user, movie and rating"
      ],
      "metadata": {
        "id": "i5O8C8Y3WbFv"
      }
    },
    {
      "cell_type": "code",
      "source": [
        "user_enc = LabelEncoder()\n",
        "final_dataset['user'] = user_enc.fit_transform(final_dataset['user id'].values)\n",
        "n_users = final_dataset['user'].nunique()\n",
        "print(n_users)"
      ],
      "metadata": {
        "colab": {
          "base_uri": "https://localhost:8080/"
        },
        "id": "VQZS6Skq9o7S",
        "outputId": "a961b491-1522-45aa-993d-502b9561ef60"
      },
      "execution_count": 8,
      "outputs": [
        {
          "output_type": "stream",
          "name": "stdout",
          "text": [
            "943\n"
          ]
        }
      ]
    },
    {
      "cell_type": "code",
      "source": [
        "item_enc = LabelEncoder()\n",
        "final_dataset['movie'] = item_enc.fit_transform(final_dataset['movie title'].values)\n",
        "n_movies = final_dataset['movie'].nunique()\n",
        "print(n_movies)"
      ],
      "metadata": {
        "colab": {
          "base_uri": "https://localhost:8080/"
        },
        "id": "_jlwJIOV9uHR",
        "outputId": "bf9c1e4b-97db-46b9-9689-f2c64f742876"
      },
      "execution_count": 9,
      "outputs": [
        {
          "output_type": "stream",
          "name": "stdout",
          "text": [
            "1664\n"
          ]
        }
      ]
    },
    {
      "cell_type": "code",
      "source": [
        "final_dataset['rating'] = final_dataset['rating'].values.astype(np.float32)\n",
        "min_rating = min(final_dataset['rating'])\n",
        "max_rating = max(final_dataset['rating'])\n",
        "print(min_rating)\n",
        "print(max_rating)"
      ],
      "metadata": {
        "colab": {
          "base_uri": "https://localhost:8080/"
        },
        "id": "T2rGIicy9z3Z",
        "outputId": "c39fce28-f42f-4fbf-8522-746de46d9b7d"
      },
      "execution_count": 10,
      "outputs": [
        {
          "output_type": "stream",
          "name": "stdout",
          "text": [
            "1.0\n",
            "5.0\n"
          ]
        }
      ]
    },
    {
      "cell_type": "markdown",
      "source": [
        "####Preparing x,y values for the model. Here, we are taking 81:09:10 Train:Validation:Test Split"
      ],
      "metadata": {
        "id": "BEWxmWpvWlk8"
      }
    },
    {
      "cell_type": "code",
      "source": [
        "X = final_dataset[['user', 'movie','Action','Adventure','Animation','Children','Comedy','Crime','Documentary','Drama','Fantasy','Film-Noir','Horror','Musical','Mystery','Romance','Sci-Fi','Thriller','War','Western']].values\n",
        "num_features = X.shape[1] - 2\n",
        "y = final_dataset['rating'].values\n",
        "X_train, X_test, y_train, y_test = train_test_split(X, y, test_size=0.1, random_state=50)\n",
        "X_train, X_val, y_train, y_val = train_test_split(X_train, y_train, test_size=0.1, random_state=50)\n",
        "X_train.shape, X_val.shape, X_test.shape, y_train.shape, y_val.shape, y_test.shape"
      ],
      "metadata": {
        "colab": {
          "base_uri": "https://localhost:8080/"
        },
        "id": "j_ECrK6c99_n",
        "outputId": "d3bae572-23e8-4f65-9d22-2424d84df20b"
      },
      "execution_count": 11,
      "outputs": [
        {
          "output_type": "execute_result",
          "data": {
            "text/plain": [
              "((81000, 20), (9000, 20), (10000, 20), (81000,), (9000,), (10000,))"
            ]
          },
          "metadata": {},
          "execution_count": 11
        }
      ]
    },
    {
      "cell_type": "markdown",
      "source": [
        "####Reshaping the inputs to fit into the model"
      ],
      "metadata": {
        "id": "zwb-g04xW6Pz"
      }
    },
    {
      "cell_type": "code",
      "source": [
        "X_train_array = [X_train[:, 0], X_train[:, 1], X_train[:, 2:]]\n",
        "X_val_array = [X_val[:, 0], X_val[:, 1],  X_val[:, 2:]]\n",
        "X_test_array = [X_test[:, 0], X_test[:, 1],  X_test[:, 2:]]\n"
      ],
      "metadata": {
        "id": "pQhyIWdQ-CdH"
      },
      "execution_count": 12,
      "outputs": []
    },
    {
      "cell_type": "code",
      "source": [
        "X_train_array[2].shape\n"
      ],
      "metadata": {
        "colab": {
          "base_uri": "https://localhost:8080/"
        },
        "id": "UmSRFkWe1v47",
        "outputId": "08c12ba5-188f-4206-e95d-e47366fd8326"
      },
      "execution_count": 13,
      "outputs": [
        {
          "output_type": "execute_result",
          "data": {
            "text/plain": [
              "(81000, 18)"
            ]
          },
          "metadata": {},
          "execution_count": 13
        }
      ]
    },
    {
      "cell_type": "code",
      "source": [
        "num_features"
      ],
      "metadata": {
        "colab": {
          "base_uri": "https://localhost:8080/"
        },
        "id": "MZB0WavWEVPF",
        "outputId": "34a27aa7-ebdb-4e26-8069-ddd42e7c2fe1"
      },
      "execution_count": 14,
      "outputs": [
        {
          "output_type": "execute_result",
          "data": {
            "text/plain": [
              "18"
            ]
          },
          "metadata": {},
          "execution_count": 14
        }
      ]
    },
    {
      "cell_type": "code",
      "source": [
        "y_train = (y_train - min_rating)/(max_rating - min_rating)\n",
        "y_val = (y_val - min_rating)/(max_rating - min_rating)\n",
        "y_test = (y_test - min_rating)/(max_rating - min_rating)"
      ],
      "metadata": {
        "id": "0HWVy0K_-JXe"
      },
      "execution_count": 15,
      "outputs": []
    },
    {
      "cell_type": "markdown",
      "source": [
        "##Creating the Model"
      ],
      "metadata": {
        "id": "z7EwO9gmaD6u"
      }
    },
    {
      "cell_type": "code",
      "source": [
        "class RecommenderSystem():\n",
        "  def __init__(self, embed_dim, n_users, n_movies, num_features): #constructor for embedded dimenstions, users, movies, num_features\n",
        "    self.embed_dim = embed_dim\n",
        "    self.n_users = n_users\n",
        "    self.n_movies = n_movies\n",
        "    self.num_features = num_features\n",
        "\n",
        "  def set_model(self): #model definition\n",
        "    user = tf.keras.layers.Input(shape = (1,)) #input layer #1 user\n",
        "    movie = tf.keras.layers.Input(shape = (1,))  #input layer #2 movie\n",
        "    movie_features = tf.keras.layers.Input(shape = (num_features,)) #input layer #3 movie features\n",
        "\n",
        "    embed_user = keras.layers.embeddings.Embedding(n_users, embed_dim, embeddings_regularizer = tf.keras.regularizers.l2(1e-3))(user)\n",
        "    embed_user = tf.keras.layers.Reshape((embed_dim ,))(embed_user) #embedding for users\n",
        "\n",
        "    embed_movie = keras.layers.embeddings.Embedding(n_movies, embed_dim, embeddings_regularizer=tf.keras.regularizers.l2(1e-3))(movie)\n",
        "    embed_movie = tf.keras.layers.Reshape((embed_dim,))(embed_movie) #embedding for movie\n",
        "\n",
        "    embed_movie_features = tf.keras.layers.Dense(embed_dim)(movie_features) #embedding for movie features\n",
        "\n",
        "    x = tf.keras.layers.Concatenate()([embed_user,embed_movie,embed_movie_features]) #combining the embedding layers\n",
        "    x = tf.keras.layers.Dropout(0.05)(x)  #adding dropout layer 5%\n",
        "\n",
        "    x = tf.keras.layers.Dense(32, kernel_initializer='he_normal')(x) #adding dense layer\n",
        "    x = tf.keras.layers.Activation(activation='relu')(x) #using relu activation function\n",
        "    x = tf.keras.layers.Dropout(0.05)(x) #adding dropoutlayer 5%\n",
        "\n",
        "    x = tf.keras.layers.Dense(5)(x)\n",
        "    x = tf.keras.layers.Activation(activation='softmax')(x) #softmax activation for output layer\n",
        "\n",
        "    self.model = tf.keras.models.Model(inputs=[user,movie, movie_features], outputs=x)\n",
        "\n",
        "    self.model.compile(optimizer='sgd', loss=tf.keras.losses.SparseCategoricalCrossentropy(), metrics=['accuracy']) #model compile\n",
        "    print(self.model.summary()) #printing model summary\n",
        "    return self\n",
        "\n",
        "  def predict_recommendation(self, user_id, n_movies):\n",
        "    encoded_user_id = user_enc.transform([user_id]) #input transform\n",
        "    seen_movies = list(final_dataset[final_dataset['user id'] == user_id]['movie']) #list of seen movies\n",
        "    unseen_movies = [i for i in range(min(final_dataset['movie']), max(final_dataset['movie'])+1) if i not in seen_movies] #list of unseen moces\n",
        "    unseen_movies_features = np.empty((0, num_features))\n",
        "    feature_names=['Action','Adventure','Animation','Children','Comedy','Crime','Documentary','Drama','Fantasy','Film-Noir','Horror','Musical','Mystery','Romance','Sci-Fi','Thriller','War','Western']\n",
        "    for i in unseen_movies:\n",
        "      unseen_movies_features = np.append(unseen_movies_features, np.array(final_dataset.loc[final_dataset['movie'] == i ,  feature_names].iloc[0]).reshape(1, num_features), axis=0)\n",
        "    model_input = [np.asarray(list(encoded_user_id)*len(unseen_movies)), np.asarray(unseen_movies),np.asarray(unseen_movies_features)] #preparing the model input\n",
        "    predicted_ratings = self.model.predict(model_input) #model predict\n",
        "    predicted_ratings = np.max(predicted_ratings, axis=1) #predicted ratings\n",
        "    sorted_index = np.argsort(predicted_ratings)[::-1] #sorting the index of the predicted ratings\n",
        "    recommended_movies = item_enc.inverse_transform(sorted_index) #reccommended movies in the sorting order\n",
        "    print(\"---------------------------------------------------------------------------------\")\n",
        "    print(\"Top \"+str(n_movies)+\" Movie recommendations for the User \"+str(user_id)+ \" are:\")\n",
        "    pprint(list(recommended_movies[:n_movies]))\n"
      ],
      "metadata": {
        "id": "sQng-nNoKc18"
      },
      "execution_count": 38,
      "outputs": []
    },
    {
      "cell_type": "code",
      "source": [
        ""
      ],
      "metadata": {
        "id": "lxFRahWlP06y"
      },
      "execution_count": 38,
      "outputs": []
    },
    {
      "cell_type": "code",
      "source": [
        "embed_dim = 256\n",
        "rec_sys = RecommenderSystem(embed_dim, n_users, n_movies, num_features) #creating the model object\n",
        "rec_sys.set_model()  #initializing the model\n",
        "history = rec_sys.model.fit(x = X_train_array, y = y_train, batch_size=128, epochs=100, verbose=1, validation_data=(X_val_array, y_val),shuffle=True) #training the model with X_train and y_train (x_val_array,y_val is the validation dataset)\n",
        "\n",
        "\n",
        "#plotting Training Loss vs Validation Loss\n",
        "plt.plot(history.history[\"loss\"])\n",
        "plt.plot(history.history[\"val_loss\"])\n",
        "plt.title(\"model loss\")\n",
        "plt.ylabel(\"loss\")\n",
        "plt.xlabel(\"epoch\")\n",
        "plt.legend([\"train\", \"test\"], loc=\"upper left\")\n",
        "plt.show()\n"
      ],
      "metadata": {
        "colab": {
          "base_uri": "https://localhost:8080/",
          "height": 1000
        },
        "id": "iAyiD4RUMIhy",
        "outputId": "840578d2-47c1-419f-c17e-488b55e5105a"
      },
      "execution_count": 61,
      "outputs": [
        {
          "output_type": "stream",
          "name": "stdout",
          "text": [
            "Model: \"model_8\"\n",
            "__________________________________________________________________________________________________\n",
            " Layer (type)                   Output Shape         Param #     Connected to                     \n",
            "==================================================================================================\n",
            " input_25 (InputLayer)          [(None, 1)]          0           []                               \n",
            "                                                                                                  \n",
            " input_26 (InputLayer)          [(None, 1)]          0           []                               \n",
            "                                                                                                  \n",
            " embedding_16 (Embedding)       (None, 1, 256)       241408      ['input_25[0][0]']               \n",
            "                                                                                                  \n",
            " embedding_17 (Embedding)       (None, 1, 256)       2560        ['input_26[0][0]']               \n",
            "                                                                                                  \n",
            " input_27 (InputLayer)          [(None, 18)]         0           []                               \n",
            "                                                                                                  \n",
            " reshape_16 (Reshape)           (None, 256)          0           ['embedding_16[0][0]']           \n",
            "                                                                                                  \n",
            " reshape_17 (Reshape)           (None, 256)          0           ['embedding_17[0][0]']           \n",
            "                                                                                                  \n",
            " dense_24 (Dense)               (None, 256)          4864        ['input_27[0][0]']               \n",
            "                                                                                                  \n",
            " concatenate_8 (Concatenate)    (None, 768)          0           ['reshape_16[0][0]',             \n",
            "                                                                  'reshape_17[0][0]',             \n",
            "                                                                  'dense_24[0][0]']               \n",
            "                                                                                                  \n",
            " dropout_16 (Dropout)           (None, 768)          0           ['concatenate_8[0][0]']          \n",
            "                                                                                                  \n",
            " dense_25 (Dense)               (None, 32)           24608       ['dropout_16[0][0]']             \n",
            "                                                                                                  \n",
            " activation_16 (Activation)     (None, 32)           0           ['dense_25[0][0]']               \n",
            "                                                                                                  \n",
            " dropout_17 (Dropout)           (None, 32)           0           ['activation_16[0][0]']          \n",
            "                                                                                                  \n",
            " dense_26 (Dense)               (None, 5)            165         ['dropout_17[0][0]']             \n",
            "                                                                                                  \n",
            " activation_17 (Activation)     (None, 5)            0           ['dense_26[0][0]']               \n",
            "                                                                                                  \n",
            "==================================================================================================\n",
            "Total params: 273,605\n",
            "Trainable params: 273,605\n",
            "Non-trainable params: 0\n",
            "__________________________________________________________________________________________________\n",
            "None\n",
            "Epoch 1/100\n",
            "633/633 [==============================] - 4s 5ms/step - loss: 0.8829 - accuracy: 0.0607 - val_loss: 0.7303 - val_accuracy: 0.0658\n",
            "Epoch 2/100\n",
            "633/633 [==============================] - 3s 5ms/step - loss: 0.7245 - accuracy: 0.0612 - val_loss: 0.7119 - val_accuracy: 0.0658\n",
            "Epoch 3/100\n",
            "633/633 [==============================] - 3s 5ms/step - loss: 0.7104 - accuracy: 0.0609 - val_loss: 0.7034 - val_accuracy: 0.0658\n",
            "Epoch 4/100\n",
            "633/633 [==============================] - 3s 5ms/step - loss: 0.7018 - accuracy: 0.0607 - val_loss: 0.6974 - val_accuracy: 0.0658\n",
            "Epoch 5/100\n",
            "633/633 [==============================] - 3s 5ms/step - loss: 0.6949 - accuracy: 0.0606 - val_loss: 0.6911 - val_accuracy: 0.0658\n",
            "Epoch 6/100\n",
            "633/633 [==============================] - 3s 5ms/step - loss: 0.6888 - accuracy: 0.0606 - val_loss: 0.6855 - val_accuracy: 0.0658\n",
            "Epoch 7/100\n",
            "633/633 [==============================] - 3s 5ms/step - loss: 0.6831 - accuracy: 0.0606 - val_loss: 0.6804 - val_accuracy: 0.0658\n",
            "Epoch 8/100\n",
            "633/633 [==============================] - 3s 5ms/step - loss: 0.6778 - accuracy: 0.0606 - val_loss: 0.6755 - val_accuracy: 0.0658\n",
            "Epoch 9/100\n",
            "633/633 [==============================] - 3s 5ms/step - loss: 0.6731 - accuracy: 0.0606 - val_loss: 0.6710 - val_accuracy: 0.0658\n",
            "Epoch 10/100\n",
            "633/633 [==============================] - 3s 5ms/step - loss: 0.6678 - accuracy: 0.0606 - val_loss: 0.6663 - val_accuracy: 0.0658\n",
            "Epoch 11/100\n",
            "633/633 [==============================] - 3s 5ms/step - loss: 0.6633 - accuracy: 0.0606 - val_loss: 0.6617 - val_accuracy: 0.0658\n",
            "Epoch 12/100\n",
            "633/633 [==============================] - 3s 5ms/step - loss: 0.6586 - accuracy: 0.0606 - val_loss: 0.6575 - val_accuracy: 0.0658\n",
            "Epoch 13/100\n",
            "633/633 [==============================] - 3s 5ms/step - loss: 0.6541 - accuracy: 0.0606 - val_loss: 0.6533 - val_accuracy: 0.0658\n",
            "Epoch 14/100\n",
            "633/633 [==============================] - 3s 5ms/step - loss: 0.6497 - accuracy: 0.0606 - val_loss: 0.6494 - val_accuracy: 0.0658\n",
            "Epoch 15/100\n",
            "633/633 [==============================] - 3s 5ms/step - loss: 0.6457 - accuracy: 0.0607 - val_loss: 0.6448 - val_accuracy: 0.0658\n",
            "Epoch 16/100\n",
            "633/633 [==============================] - 3s 5ms/step - loss: 0.6416 - accuracy: 0.0607 - val_loss: 0.6408 - val_accuracy: 0.0658\n",
            "Epoch 17/100\n",
            "633/633 [==============================] - 4s 6ms/step - loss: 0.6377 - accuracy: 0.0607 - val_loss: 0.6374 - val_accuracy: 0.0658\n",
            "Epoch 18/100\n",
            "633/633 [==============================] - 5s 7ms/step - loss: 0.6334 - accuracy: 0.0608 - val_loss: 0.6328 - val_accuracy: 0.0658\n",
            "Epoch 19/100\n",
            "633/633 [==============================] - 5s 7ms/step - loss: 0.6294 - accuracy: 0.0608 - val_loss: 0.6289 - val_accuracy: 0.0658\n",
            "Epoch 20/100\n",
            "633/633 [==============================] - 3s 5ms/step - loss: 0.6256 - accuracy: 0.0610 - val_loss: 0.6249 - val_accuracy: 0.0658\n",
            "Epoch 21/100\n",
            "633/633 [==============================] - 3s 5ms/step - loss: 0.6215 - accuracy: 0.0608 - val_loss: 0.6212 - val_accuracy: 0.0658\n",
            "Epoch 22/100\n",
            "633/633 [==============================] - 3s 5ms/step - loss: 0.6180 - accuracy: 0.0612 - val_loss: 0.6171 - val_accuracy: 0.0658\n",
            "Epoch 23/100\n",
            "633/633 [==============================] - 5s 8ms/step - loss: 0.6132 - accuracy: 0.0612 - val_loss: 0.6140 - val_accuracy: 0.0658\n",
            "Epoch 24/100\n",
            "633/633 [==============================] - 3s 5ms/step - loss: 0.6097 - accuracy: 0.0613 - val_loss: 0.6093 - val_accuracy: 0.0661\n",
            "Epoch 25/100\n",
            "633/633 [==============================] - 3s 5ms/step - loss: 0.6059 - accuracy: 0.0615 - val_loss: 0.6054 - val_accuracy: 0.0662\n",
            "Epoch 26/100\n",
            "633/633 [==============================] - 3s 5ms/step - loss: 0.6016 - accuracy: 0.0617 - val_loss: 0.6012 - val_accuracy: 0.0661\n",
            "Epoch 27/100\n",
            "633/633 [==============================] - 3s 5ms/step - loss: 0.5977 - accuracy: 0.0616 - val_loss: 0.5972 - val_accuracy: 0.0662\n",
            "Epoch 28/100\n",
            "633/633 [==============================] - 3s 5ms/step - loss: 0.5932 - accuracy: 0.0620 - val_loss: 0.5933 - val_accuracy: 0.0660\n",
            "Epoch 29/100\n",
            "633/633 [==============================] - 3s 5ms/step - loss: 0.5889 - accuracy: 0.0619 - val_loss: 0.5888 - val_accuracy: 0.0661\n",
            "Epoch 30/100\n",
            "633/633 [==============================] - 3s 5ms/step - loss: 0.5849 - accuracy: 0.0622 - val_loss: 0.5845 - val_accuracy: 0.0664\n",
            "Epoch 31/100\n",
            "633/633 [==============================] - 3s 5ms/step - loss: 0.5804 - accuracy: 0.0627 - val_loss: 0.5803 - val_accuracy: 0.0667\n",
            "Epoch 32/100\n",
            "633/633 [==============================] - 3s 5ms/step - loss: 0.5757 - accuracy: 0.0630 - val_loss: 0.5760 - val_accuracy: 0.0666\n",
            "Epoch 33/100\n",
            "633/633 [==============================] - 3s 5ms/step - loss: 0.5718 - accuracy: 0.0637 - val_loss: 0.5717 - val_accuracy: 0.0669\n",
            "Epoch 34/100\n",
            "633/633 [==============================] - 3s 5ms/step - loss: 0.5672 - accuracy: 0.0642 - val_loss: 0.5682 - val_accuracy: 0.0668\n",
            "Epoch 35/100\n",
            "633/633 [==============================] - 3s 5ms/step - loss: 0.5631 - accuracy: 0.0654 - val_loss: 0.5641 - val_accuracy: 0.0694\n",
            "Epoch 36/100\n",
            "633/633 [==============================] - 5s 7ms/step - loss: 0.5591 - accuracy: 0.0662 - val_loss: 0.5602 - val_accuracy: 0.0717\n",
            "Epoch 37/100\n",
            "633/633 [==============================] - 4s 7ms/step - loss: 0.5552 - accuracy: 0.0674 - val_loss: 0.5564 - val_accuracy: 0.0708\n",
            "Epoch 38/100\n",
            "633/633 [==============================] - 4s 6ms/step - loss: 0.5511 - accuracy: 0.0689 - val_loss: 0.5531 - val_accuracy: 0.0728\n",
            "Epoch 39/100\n",
            "633/633 [==============================] - 4s 6ms/step - loss: 0.5477 - accuracy: 0.0707 - val_loss: 0.5495 - val_accuracy: 0.0747\n",
            "Epoch 40/100\n",
            "633/633 [==============================] - 4s 7ms/step - loss: 0.5445 - accuracy: 0.0718 - val_loss: 0.5476 - val_accuracy: 0.0731\n",
            "Epoch 41/100\n",
            "633/633 [==============================] - 4s 7ms/step - loss: 0.5417 - accuracy: 0.0732 - val_loss: 0.5439 - val_accuracy: 0.0782\n",
            "Epoch 42/100\n",
            "633/633 [==============================] - 3s 5ms/step - loss: 0.5384 - accuracy: 0.0738 - val_loss: 0.5410 - val_accuracy: 0.0781\n",
            "Epoch 43/100\n",
            "633/633 [==============================] - 3s 5ms/step - loss: 0.5352 - accuracy: 0.0753 - val_loss: 0.5384 - val_accuracy: 0.0788\n",
            "Epoch 44/100\n",
            "633/633 [==============================] - 3s 5ms/step - loss: 0.5328 - accuracy: 0.0760 - val_loss: 0.5363 - val_accuracy: 0.0774\n",
            "Epoch 45/100\n",
            "633/633 [==============================] - 3s 5ms/step - loss: 0.5299 - accuracy: 0.0778 - val_loss: 0.5344 - val_accuracy: 0.0794\n",
            "Epoch 46/100\n",
            "633/633 [==============================] - 3s 5ms/step - loss: 0.5278 - accuracy: 0.0784 - val_loss: 0.5311 - val_accuracy: 0.0834\n",
            "Epoch 47/100\n",
            "633/633 [==============================] - 3s 5ms/step - loss: 0.5256 - accuracy: 0.0792 - val_loss: 0.5290 - val_accuracy: 0.0842\n",
            "Epoch 48/100\n",
            "633/633 [==============================] - 5s 7ms/step - loss: 0.5234 - accuracy: 0.0790 - val_loss: 0.5275 - val_accuracy: 0.0859\n",
            "Epoch 49/100\n",
            "633/633 [==============================] - 3s 5ms/step - loss: 0.5207 - accuracy: 0.0807 - val_loss: 0.5253 - val_accuracy: 0.0871\n",
            "Epoch 50/100\n",
            "633/633 [==============================] - 3s 5ms/step - loss: 0.5190 - accuracy: 0.0812 - val_loss: 0.5233 - val_accuracy: 0.0849\n",
            "Epoch 51/100\n",
            "633/633 [==============================] - 3s 5ms/step - loss: 0.5171 - accuracy: 0.0808 - val_loss: 0.5214 - val_accuracy: 0.0893\n",
            "Epoch 52/100\n",
            "633/633 [==============================] - 4s 7ms/step - loss: 0.5148 - accuracy: 0.0819 - val_loss: 0.5199 - val_accuracy: 0.0887\n",
            "Epoch 53/100\n",
            "633/633 [==============================] - 3s 5ms/step - loss: 0.5128 - accuracy: 0.0829 - val_loss: 0.5182 - val_accuracy: 0.0894\n",
            "Epoch 54/100\n",
            "633/633 [==============================] - 3s 5ms/step - loss: 0.5109 - accuracy: 0.0834 - val_loss: 0.5164 - val_accuracy: 0.0894\n",
            "Epoch 55/100\n",
            "633/633 [==============================] - 3s 5ms/step - loss: 0.5094 - accuracy: 0.0838 - val_loss: 0.5147 - val_accuracy: 0.0908\n",
            "Epoch 56/100\n",
            "633/633 [==============================] - 3s 5ms/step - loss: 0.5076 - accuracy: 0.0839 - val_loss: 0.5129 - val_accuracy: 0.0893\n",
            "Epoch 57/100\n",
            "633/633 [==============================] - 5s 7ms/step - loss: 0.5067 - accuracy: 0.0840 - val_loss: 0.5117 - val_accuracy: 0.0912\n",
            "Epoch 58/100\n",
            "633/633 [==============================] - 3s 5ms/step - loss: 0.5048 - accuracy: 0.0841 - val_loss: 0.5106 - val_accuracy: 0.0936\n",
            "Epoch 59/100\n",
            "633/633 [==============================] - 3s 5ms/step - loss: 0.5031 - accuracy: 0.0853 - val_loss: 0.5111 - val_accuracy: 0.0839\n",
            "Epoch 60/100\n",
            "633/633 [==============================] - 5s 8ms/step - loss: 0.5019 - accuracy: 0.0856 - val_loss: 0.5075 - val_accuracy: 0.0919\n",
            "Epoch 61/100\n",
            "633/633 [==============================] - 3s 5ms/step - loss: 0.5001 - accuracy: 0.0850 - val_loss: 0.5061 - val_accuracy: 0.0881\n",
            "Epoch 62/100\n",
            "633/633 [==============================] - 3s 5ms/step - loss: 0.4985 - accuracy: 0.0861 - val_loss: 0.5050 - val_accuracy: 0.0879\n",
            "Epoch 63/100\n",
            "633/633 [==============================] - 3s 5ms/step - loss: 0.4975 - accuracy: 0.0866 - val_loss: 0.5036 - val_accuracy: 0.0901\n",
            "Epoch 64/100\n",
            "633/633 [==============================] - 3s 5ms/step - loss: 0.4966 - accuracy: 0.0860 - val_loss: 0.5025 - val_accuracy: 0.0880\n",
            "Epoch 65/100\n",
            "633/633 [==============================] - 4s 6ms/step - loss: 0.4952 - accuracy: 0.0864 - val_loss: 0.5019 - val_accuracy: 0.0884\n",
            "Epoch 66/100\n",
            "633/633 [==============================] - 4s 7ms/step - loss: 0.4940 - accuracy: 0.0869 - val_loss: 0.5005 - val_accuracy: 0.0883\n",
            "Epoch 67/100\n",
            "633/633 [==============================] - 3s 5ms/step - loss: 0.4926 - accuracy: 0.0864 - val_loss: 0.4994 - val_accuracy: 0.0961\n",
            "Epoch 68/100\n",
            "633/633 [==============================] - 3s 5ms/step - loss: 0.4914 - accuracy: 0.0868 - val_loss: 0.4981 - val_accuracy: 0.0961\n",
            "Epoch 69/100\n",
            "633/633 [==============================] - 3s 5ms/step - loss: 0.4904 - accuracy: 0.0880 - val_loss: 0.4968 - val_accuracy: 0.0914\n",
            "Epoch 70/100\n",
            "633/633 [==============================] - 3s 5ms/step - loss: 0.4896 - accuracy: 0.0877 - val_loss: 0.4958 - val_accuracy: 0.0904\n",
            "Epoch 71/100\n",
            "633/633 [==============================] - 3s 5ms/step - loss: 0.4883 - accuracy: 0.0877 - val_loss: 0.4948 - val_accuracy: 0.0922\n",
            "Epoch 72/100\n",
            "633/633 [==============================] - 3s 5ms/step - loss: 0.4872 - accuracy: 0.0882 - val_loss: 0.4941 - val_accuracy: 0.0940\n",
            "Epoch 73/100\n",
            "633/633 [==============================] - 3s 5ms/step - loss: 0.4861 - accuracy: 0.0884 - val_loss: 0.4927 - val_accuracy: 0.0901\n",
            "Epoch 74/100\n",
            "633/633 [==============================] - 5s 8ms/step - loss: 0.4851 - accuracy: 0.0880 - val_loss: 0.4921 - val_accuracy: 0.0903\n",
            "Epoch 75/100\n",
            "633/633 [==============================] - 3s 5ms/step - loss: 0.4845 - accuracy: 0.0880 - val_loss: 0.4910 - val_accuracy: 0.0953\n",
            "Epoch 76/100\n",
            "633/633 [==============================] - 3s 5ms/step - loss: 0.4831 - accuracy: 0.0884 - val_loss: 0.4901 - val_accuracy: 0.0911\n",
            "Epoch 77/100\n",
            "633/633 [==============================] - 5s 7ms/step - loss: 0.4826 - accuracy: 0.0886 - val_loss: 0.4901 - val_accuracy: 0.1007\n",
            "Epoch 78/100\n",
            "633/633 [==============================] - 3s 5ms/step - loss: 0.4820 - accuracy: 0.0888 - val_loss: 0.4886 - val_accuracy: 0.0953\n",
            "Epoch 79/100\n",
            "633/633 [==============================] - 3s 5ms/step - loss: 0.4807 - accuracy: 0.0888 - val_loss: 0.4882 - val_accuracy: 0.0992\n",
            "Epoch 80/100\n",
            "633/633 [==============================] - 3s 5ms/step - loss: 0.4801 - accuracy: 0.0895 - val_loss: 0.4879 - val_accuracy: 0.1018\n",
            "Epoch 81/100\n",
            "633/633 [==============================] - 3s 5ms/step - loss: 0.4795 - accuracy: 0.0883 - val_loss: 0.4862 - val_accuracy: 0.0912\n",
            "Epoch 82/100\n",
            "633/633 [==============================] - 3s 5ms/step - loss: 0.4782 - accuracy: 0.0888 - val_loss: 0.4853 - val_accuracy: 0.0906\n",
            "Epoch 83/100\n",
            "633/633 [==============================] - 3s 5ms/step - loss: 0.4772 - accuracy: 0.0896 - val_loss: 0.4859 - val_accuracy: 0.0894\n",
            "Epoch 84/100\n",
            "633/633 [==============================] - 3s 5ms/step - loss: 0.4766 - accuracy: 0.0896 - val_loss: 0.4847 - val_accuracy: 0.1023\n",
            "Epoch 85/100\n",
            "633/633 [==============================] - 3s 5ms/step - loss: 0.4759 - accuracy: 0.0896 - val_loss: 0.4844 - val_accuracy: 0.0896\n",
            "Epoch 86/100\n",
            "633/633 [==============================] - 3s 5ms/step - loss: 0.4749 - accuracy: 0.0897 - val_loss: 0.4830 - val_accuracy: 0.0904\n",
            "Epoch 87/100\n",
            "633/633 [==============================] - 3s 5ms/step - loss: 0.4749 - accuracy: 0.0897 - val_loss: 0.4821 - val_accuracy: 0.0938\n",
            "Epoch 88/100\n",
            "633/633 [==============================] - 4s 7ms/step - loss: 0.4741 - accuracy: 0.0894 - val_loss: 0.4811 - val_accuracy: 0.0953\n",
            "Epoch 89/100\n",
            "633/633 [==============================] - 3s 5ms/step - loss: 0.4730 - accuracy: 0.0906 - val_loss: 0.4805 - val_accuracy: 0.0963\n",
            "Epoch 90/100\n",
            "633/633 [==============================] - 3s 5ms/step - loss: 0.4725 - accuracy: 0.0907 - val_loss: 0.4801 - val_accuracy: 0.0920\n",
            "Epoch 91/100\n",
            "633/633 [==============================] - 3s 5ms/step - loss: 0.4718 - accuracy: 0.0899 - val_loss: 0.4803 - val_accuracy: 0.1023\n",
            "Epoch 92/100\n",
            "633/633 [==============================] - 3s 5ms/step - loss: 0.4712 - accuracy: 0.0906 - val_loss: 0.4789 - val_accuracy: 0.0969\n",
            "Epoch 93/100\n",
            "633/633 [==============================] - 3s 5ms/step - loss: 0.4708 - accuracy: 0.0900 - val_loss: 0.4779 - val_accuracy: 0.0932\n",
            "Epoch 94/100\n",
            "633/633 [==============================] - 4s 6ms/step - loss: 0.4697 - accuracy: 0.0904 - val_loss: 0.4779 - val_accuracy: 0.0986\n",
            "Epoch 95/100\n",
            "633/633 [==============================] - 5s 8ms/step - loss: 0.4696 - accuracy: 0.0907 - val_loss: 0.4771 - val_accuracy: 0.0957\n",
            "Epoch 96/100\n",
            "633/633 [==============================] - 3s 5ms/step - loss: 0.4692 - accuracy: 0.0907 - val_loss: 0.4763 - val_accuracy: 0.0928\n",
            "Epoch 97/100\n",
            "633/633 [==============================] - 3s 5ms/step - loss: 0.4683 - accuracy: 0.0903 - val_loss: 0.4767 - val_accuracy: 0.1003\n",
            "Epoch 98/100\n",
            "633/633 [==============================] - 3s 5ms/step - loss: 0.4683 - accuracy: 0.0903 - val_loss: 0.4758 - val_accuracy: 0.0929\n",
            "Epoch 99/100\n",
            "633/633 [==============================] - 3s 5ms/step - loss: 0.4679 - accuracy: 0.0908 - val_loss: 0.4751 - val_accuracy: 0.0911\n",
            "Epoch 100/100\n",
            "633/633 [==============================] - 3s 5ms/step - loss: 0.4671 - accuracy: 0.0908 - val_loss: 0.4742 - val_accuracy: 0.0960\n"
          ]
        },
        {
          "output_type": "display_data",
          "data": {
            "text/plain": [
              "<Figure size 432x288 with 1 Axes>"
            ],
            "image/png": "[encoded data removed]"
          },
          "metadata": {
            "needs_background": "light"
          }
        }
      ]
    },
    {
      "cell_type": "code",
      "source": [
        "print(\"Enter user id\")\n",
        "user_id= int(input())\n",
        "\n",
        "print(\"Enter number of movies to be recommended:\")\n",
        "n_movies = int(input())\n",
        "rec_sys.predict_recommendation(user_id, n_movies)"
      ],
      "metadata": {
        "colab": {
          "base_uri": "https://localhost:8080/"
        },
        "id": "4j7BvsBuQXcY",
        "outputId": "7edcdd2f-9319-4416-8e65-140922069704"
      },
      "execution_count": 47,
      "outputs": [
        {
          "output_type": "stream",
          "name": "stdout",
          "text": [
            "Enter user id\n",
            "198\n",
            "Enter number of movies to be recommended:\n",
            "10\n",
            "---------------------------------------------------------------------------------\n",
            "Top 10 Movie recommendations for the User 198 are:\n",
            "['M*A*S*H (1970)',\n",
            " 'Faust (1994)',\n",
            " 'Goofy Movie, A (1995)',\n",
            " 'Ghost in the Shell (Kokaku kidotai) (1995)',\n",
            " 'Raise the Red Lantern (1991)',\n",
            " 'Sling Blade (1996)',\n",
            " 'Celluloid Closet, The (1995)',\n",
            " 'Bad Company (1995)',\n",
            " 'Bad Boys (1995)',\n",
            " 'Gattaca (1997)']\n"
          ]
        }
      ]
    },
    {
      "cell_type": "code",
      "source": [
        "print(\"Enter user id\")\n",
        "user_id= int(input())\n",
        "\n",
        "print(\"Enter number of movies to be recommended:\")\n",
        "n_movies = int(input())\n",
        "rec_sys.predict_recommendation(user_id, n_movies)"
      ],
      "metadata": {
        "id": "JOfnQz0wEPaa",
        "colab": {
          "base_uri": "https://localhost:8080/"
        },
        "outputId": "24e26396-9a09-4719-aaea-e649d25f8de5"
      },
      "execution_count": 62,
      "outputs": [
        {
          "output_type": "stream",
          "name": "stdout",
          "text": [
            "Enter user id\n",
            "190\n",
            "Enter number of movies to be recommended:\n",
            "10\n",
            "---------------------------------------------------------------------------------\n",
            "Top 10 Movie recommendations for the User 190 are:\n",
            "['Nothing to Lose (1994)',\n",
            " 'Twelve Monkeys (1995)',\n",
            " 'I Like It Like That (1994)',\n",
            " 'Eddie (1996)',\n",
            " 'Jerky Boys, The (1994)',\n",
            " 'Fifth Element, The (1997)',\n",
            " '3 Ninjas: High Noon At Mega Mountain (1998)',\n",
            " 'Mary Poppins (1964)',\n",
            " 'Murder at 1600 (1997)',\n",
            " 'Scream (1996)']\n"
          ]
        }
      ]
    },
    {
      "cell_type": "code",
      "source": [
        ""
      ],
      "metadata": {
        "id": "jPQla60gXI54"
      },
      "execution_count": null,
      "outputs": []
    }
  ]
}